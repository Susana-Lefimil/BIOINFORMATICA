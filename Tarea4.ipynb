{
 "cells": [
  {
   "cell_type": "code",
   "execution_count": 4,
   "id": "a3e6f72d",
   "metadata": {},
   "outputs": [
    {
     "name": "stdout",
     "output_type": "stream",
     "text": [
      " Maximo:  83 Minimo:  13 Prom: 52.58\n"
     ]
    }
   ],
   "source": [
    "#Crea una funcion que reciba una lista de numeros y devuelva el minimo, maximo y el promedio.\n",
    "lista = [38,75,51,34,13,64,45,64,73,26,83,65]\n",
    "\n",
    "def summary(lista):\n",
    "    \n",
    "    arrnew = []\n",
    "    sum=0\n",
    "    max=lista[0]\n",
    "    min=lista[0]\n",
    "    for i in lista:\n",
    "        #print(i)\n",
    "        sum+=i\n",
    "        if  max<i:\n",
    "            max=i\n",
    "        elif min>i:\n",
    "            min=i\n",
    "    sum=round(sum/len(lista),2)\n",
    "    arrnew.append(max)  \n",
    "    arrnew.append(min)\n",
    "    arrnew.append(sum)\n",
    "   \n",
    "    #print(arrnew) \n",
    "    print(\" Maximo: \", arrnew[0], \"Minimo: \", arrnew[1], \"Prom:\", arrnew[2])\n",
    "        \n",
    "        \n",
    "\n",
    "summary(lista)"
   ]
  },
  {
   "cell_type": "code",
   "execution_count": 5,
   "id": "2b1d7790",
   "metadata": {},
   "outputs": [
    {
     "name": "stdout",
     "output_type": "stream",
     "text": [
      "-84\n"
     ]
    }
   ],
   "source": [
    "#Utilizando el código de la calculadora, crear una función que reciba 2 numeros\n",
    "#y un string de la operación a realizar y retorne el resultado\n",
    "def calculadora(n1,operacion,n2):\n",
    "    if operacion==\"+\" or operacion==\"-\" or operacion==\"/\" or operacion==\"*\":\n",
    "        if operacion==\"+\":\n",
    "            #print(\"La suma es: \", n1+n2)\n",
    "            return n1+n2\n",
    "        elif operacion==\"-\":\n",
    "             #print(\"La resta es: \", n1-n2)\n",
    "            return n1-n2\n",
    "        elif operacion==\"*\":\n",
    "             #print(\"La multiplicacion es: \", n1*n2)\n",
    "            return n1*n2\n",
    "        elif operacion==\"/\":\n",
    "             #print(\"La division es: \", n1/n2)\n",
    "            return n1/n2\n",
    "\n",
    "\n",
    "resultado = calculadora(5,\"-\",89)\n",
    "print(resultado)"
   ]
  },
  {
   "cell_type": "code",
   "execution_count": 6,
   "id": "c1cf330a",
   "metadata": {},
   "outputs": [
    {
     "name": "stdout",
     "output_type": "stream",
     "text": [
      "Va a examen\n",
      "Necesita nota:  4.47\n"
     ]
    }
   ],
   "source": [
    "#Utilizando el ejercicio del cálculo de nota final. Crear una funcion que reciba la nota\n",
    "#de presentación a examen y calcule que nota necesitan en el examen para aprobar.\n",
    "def nota_examen(nota,porcentaje):\n",
    "    minim = nota*porcentaje\n",
    "\n",
    "    n2=(4-minim)/(1-porcentaje)\n",
    "\n",
    "    #print(minim)\n",
    "    #print(n2)\n",
    "    if nota<5 and n2<7:\n",
    "        print(\"Va a examen\")\n",
    "\n",
    "        print(\"Necesita nota: \", round(n2,2))\n",
    "    elif nota>=5:\n",
    "        print (\"Aprueba\")\n",
    "    else:\n",
    "        print(\"Reprueba\")\n",
    "    \n",
    "nota_examen(3.8,0.7)"
   ]
  },
  {
   "cell_type": "code",
   "execution_count": 7,
   "id": "fa86c66f",
   "metadata": {},
   "outputs": [
    {
     "name": "stdout",
     "output_type": "stream",
     "text": [
      ">cel-let-7 MI0000001 Caenorhabditis elegans let-7 stem-loop\n",
      "UACACUGUGGAUCCGGUGAGGUAGUAGGUUGUAUAGUUUGGAAUAUUACCACCGGUGAACUAUGCAAUUUUCUACCUUACCGGAGACAGAACUCUUCGA\n",
      ">cel-lin-4 MI0000002 Caenorhabditis elegans lin-4 stem-loop\n",
      "AUGCUUCCGGCCUGUUCCCUGAGACCUCAAGUGUGAGUGUACUAUUGAUGCUUCACACCUGGGCUCUCCGGGUACCAGGACGGUUUGAGCAGAU\n",
      ">cel-mir-1 MI0000003 Caenorhabditis elegans miR-1 stem-loop\n",
      "AAAGUGACCGUACCGAGCUGCAUACUUCCUUACAUGCCCAUACUAUAUCAUAAAUGGAUAUGGAAUGUAAAGAAGUAUGUAGAACGGGGUGGUAGU\n"
     ]
    }
   ],
   "source": [
    "#Utilizando el código que lee un fasta, creemos una función que reciba el nombre\n",
    "#de un archivo fasta y retorne un diccionario con las secuencias\n",
    "def readFasta(filename):\n",
    "    #Código aquí\n",
    "    file = open(filename, \"r\")\n",
    "    sequences = {}                       #diccionario vacio para guardar las secuencias\n",
    "\n",
    "    for line in file:\n",
    "        line = line.replace(\"\\n\",\"\")    #Eliminamos el salto de linea\n",
    "        if line[0] == \">\":        #Si la linea comienza con el caracter >\n",
    "            head = line\n",
    "            sequences[head] = \"\"\n",
    "        else:\n",
    "            sequences[head] += line   #Guardamos la secuencia como valor de la clave head\n",
    "    return sequences\n",
    "\n",
    "\n",
    "\n",
    "#Llamar a la función\n",
    "fasta_dict = readFasta(\"C:/Users/Susana/Desktop/DIPLO BIOINFORMATICA/2_Python/hairpin.fa\")\n",
    "\n",
    "#Código para probar si esta bien guardada\n",
    "count = 0\n",
    "for key in fasta_dict:\n",
    "    print(key+\"\\n\"+fasta_dict[key])\n",
    "    count += 1\n",
    "    if count == 3:\n",
    "        break"
   ]
  },
  {
   "cell_type": "code",
   "execution_count": null,
   "id": "54982f20",
   "metadata": {
    "scrolled": false
   },
   "outputs": [],
   "source": [
    "def count_organisms(fasta_dict,organism):\n",
    "    for clave in fasta_dict:\n",
    "        if organism in clave:\n",
    "            print(clave,fasta_dict[clave])\n",
    "        \n",
    "    \n",
    "    \n",
    "count_organisms(fasta_dict,\"Homo sapiens\")"
   ]
  },
  {
   "cell_type": "code",
   "execution_count": 9,
   "id": "8e79665b",
   "metadata": {},
   "outputs": [
    {
     "data": {
      "text/plain": [
       "['Hola', 'Tal']"
      ]
     },
     "execution_count": 9,
     "metadata": {},
     "output_type": "execute_result"
    }
   ],
   "source": [
    "#Crea una funcion que permita buscar la key de un valor en un diccionario\n",
    "diccionario = {\"Hola\":5, \"Que\": 6, \"Tal\":5, \"Adios\":2}\n",
    "\n",
    "def busca_dict(dicc, Valor):\n",
    "    lista = []\n",
    "    for valor in dicc: \n",
    "        if Valor == dicc[valor]:\n",
    "            #print (valor, \":\", dicc[valor])\n",
    "            lista.append(valor)\n",
    "    return lista\n",
    "busca_dict(diccionario, 5)\n",
    "\n",
    "#print(busca_dict(sequencia, \"UACACUGUGGAUCCGGUGAGGUAGUAGGUUGUAUAGUUUGGAAUAUUACCACCGGUGAACUAUGCAAUUUUCUACCUUACCGGAGACAGAACUCUUCGA\"))\n"
   ]
  },
  {
   "cell_type": "code",
   "execution_count": 1,
   "id": "36a23ef2",
   "metadata": {},
   "outputs": [
    {
     "data": {
      "text/plain": [
       "{6: ['Que'], 5: ['Hola', 'Tal'], 2: ['Adios']}"
      ]
     },
     "execution_count": 1,
     "metadata": {},
     "output_type": "execute_result"
    }
   ],
   "source": [
    "#Crea una funcion que devuelva un diccionario con los valores como keys y las keys como valores\n",
    "#del diccionario que recibe\n",
    "diccionario = {\"Hola\":5, \"Que\": 6, \"Tal\":5, \"Adios\":2}\n",
    "dc = {}\n",
    "def reverse_dict(dicc):\n",
    "    lista = []\n",
    "    for valor in dicc: \n",
    "        lista.append(dicc[valor])      \n",
    "    lista1 = list(set(lista))\n",
    "    lista1 =sorted(lista1, reverse=True)\n",
    "    for x in lista1:\n",
    "        #print(x)\n",
    "        dc[x]=x\n",
    "    for v in dc:\n",
    "        dc[v]=[]\n",
    "        #print(dc, dc[v])\n",
    "        \n",
    "    for z in dc:\n",
    "        for i, valor in enumerate(dicc):\n",
    "            #print(dicc[valor])\n",
    "            #print(z)\n",
    "            if dicc[valor]==z:\n",
    "                dc[z].append(valor)\n",
    "    return dc\n",
    "        \n",
    "reverse_dict(diccionario)\n",
    "\n",
    "\n",
    "#salida esperada: \n",
    "#{6: [\"Que\"], 5: [\"Hola\", \"Tal\"], 2: [\"Adios\"]}\n"
   ]
  },
  {
   "cell_type": "code",
   "execution_count": null,
   "id": "c5e0efcc",
   "metadata": {},
   "outputs": [],
   "source": []
  }
 ],
 "metadata": {
  "kernelspec": {
   "display_name": "Python 3 (ipykernel)",
   "language": "python",
   "name": "python3"
  },
  "language_info": {
   "codemirror_mode": {
    "name": "ipython",
    "version": 3
   },
   "file_extension": ".py",
   "mimetype": "text/x-python",
   "name": "python",
   "nbconvert_exporter": "python",
   "pygments_lexer": "ipython3",
   "version": "3.9.7"
  }
 },
 "nbformat": 4,
 "nbformat_minor": 5
}
