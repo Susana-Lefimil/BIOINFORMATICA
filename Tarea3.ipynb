{
 "cells": [
  {
   "cell_type": "markdown",
   "id": "4cbe8ebc",
   "metadata": {},
   "source": [
    "Ejercicio para la casa1\n",
    "Realiza un programa que encripte un texto ingresado por teclado, para esto necesitas crear un diccionario de encriptación a tu gusto, por ejemplo:\n",
    "dict = {'a':'x', 'e':'j',  'i':'a', 'o':'b', 'u':'z'}\n",
    "\n",
    "Ahora, pide un texto por teclado y usa tu diccionario de encriptación para crear un nuevo texto cambiando cada una de las letras del texto original por su igualdad en tu diccionario."
   ]
  },
  {
   "cell_type": "code",
   "execution_count": 2,
   "id": "81908be6",
   "metadata": {},
   "outputs": [
    {
     "name": "stdout",
     "output_type": "stream",
     "text": [
      "Ingrese la contraseña:aaddiioo\n",
      "xxddaabb\n"
     ]
    }
   ],
   "source": [
    "pas = str(input(\"Ingrese la contraseña:\"))\n",
    "pas = pas.lower()\n",
    "dict = {'a':'x', 'e':'j',  'i':'a', 'o':'b', 'u':'z'}\n",
    "\n",
    "newpas=\"\"\n",
    "\n",
    "for  valor in (pas):\n",
    "    for clave in dict:\n",
    "        if clave==valor:\n",
    "            #print(clave, valor,dict[clave])\n",
    "            valor=dict[clave]\n",
    "            #print(clave, valor)  \n",
    "    newpas+=valor\n",
    "print(newpas)"
   ]
  },
  {
   "cell_type": "code",
   "execution_count": 7,
   "id": "42bc3955",
   "metadata": {},
   "outputs": [
    {
     "name": "stdout",
     "output_type": "stream",
     "text": [
      "string 1: afaefe\n",
      "{'a', 'f', 'e'}\n",
      "Frecuencias\n",
      "[2, 2, 2]\n",
      "\n"
     ]
    }
   ],
   "source": [
    "#Ejercicio: dado un string ingresado por teclado, \n",
    "#mostrar la cantidad de veces que se repite cada letra\n",
    "\n",
    "p1 = input(\"string 1: \")\n",
    "conjunto = set(p1)\n",
    "print (conjunto)\n",
    "frecuenciaPalab=[]\n",
    "for i in conjunto:\n",
    "    #print(p1.count(i))\n",
    "    frecuenciaPalab.append(p1.count(i))\n",
    "  \n",
    "print(\"Frecuencias\\n\" + str(frecuenciaPalab) + \"\\n\")\n"
   ]
  },
  {
   "cell_type": "code",
   "execution_count": 9,
   "id": "1d87e00d",
   "metadata": {},
   "outputs": [
    {
     "name": "stdout",
     "output_type": "stream",
     "text": [
      "Bioquimica [4.5, 5.2, 3, 4, 16.7]\n",
      "Microbiologia [5.6, 6, 2, 4, 3, 20.6]\n",
      "Instrumentacion [6.5, 5.7, 6, 3, 21.2]\n"
     ]
    }
   ],
   "source": [
    "#Ejercicio: Dado el diccionario, intenta calcular el promedio por cada ramo\n",
    "notas = {'Bioquimica' : [4.5, 5.2, 3, 4],\n",
    "         'Microbiologia': [5.6, 6, 2, 4, 3],\n",
    "         'Instrumentacion': [6.5, 5.7, 6, 3]\n",
    "}\n",
    "\n",
    "for clave, valor in notas.items():\n",
    "    #print(clave, valor)\n",
    "    var = sum(valor)\n",
    "    #print(var)\n",
    "    valor.append(var)\n",
    "    print(clave, valor)\n"
   ]
  },
  {
   "cell_type": "code",
   "execution_count": 10,
   "id": "a3da78cf",
   "metadata": {},
   "outputs": [
    {
     "name": "stdout",
     "output_type": "stream",
     "text": [
      "Prueba 17\n",
      "Prueba2 16\n"
     ]
    }
   ],
   "source": [
    "#Realiza un programa que encuentre la persona con menor edad en el siguiente diccionario. \n",
    "\n",
    "edades = {'Hector':27,'Juan':45,'Maria':34,'Prueba':17, 'Prueba2':16}\n",
    "\n",
    "for clave in edades:\n",
    "    if edades[clave]<18:\n",
    "        print(clave,edades[clave])"
   ]
  },
  {
   "cell_type": "code",
   "execution_count": 11,
   "id": "5cd4bec6",
   "metadata": {},
   "outputs": [],
   "source": [
    "#Leeremos el archivo hairpin.fa desde otra carpeta\n",
    "\n",
    "file = open(\"C:/Users/Susana/Desktop/DIPLO BIOINFORMATICA/2_Python/hairpin.fa\" , \"r\")\n",
    "sequences = {}                       #diccionario vacio para guardar las secuencias\n",
    "\n",
    "for line in file:\n",
    "    line = line.replace(\"\\n\",\"\")    #Eliminamos el salto de linea\n",
    "    #print(line)\n",
    "    if line.startswith(\">\"):        #Si la linea comienza con el caracter >\n",
    "        head = line\n",
    "        sequences[head] = \"\"\n",
    "    else:\n",
    "        sequences[head] += line   #Guardamos la secuencia como valor de la clave head\n",
    "\n",
    "file.close()        \n"
   ]
  },
  {
   "cell_type": "code",
   "execution_count": 12,
   "id": "cede495b",
   "metadata": {},
   "outputs": [
    {
     "name": "stdout",
     "output_type": "stream",
     "text": [
      "1381\n"
     ]
    }
   ],
   "source": [
    "#Hacer una modificación para que muestre la cantidad de secuencias \n",
    "#que contienen la semilla de unión a RNA CUUUGA\n",
    "#Ayuda: for i in range(inicio,fin,incremento):\n",
    "count = 0                         \n",
    "for header in sequences:\n",
    "    if \"CUUUGA\" in sequences[header]:\n",
    "        count +=1\n",
    "\n",
    "print(count)"
   ]
  },
  {
   "cell_type": "code",
   "execution_count": null,
   "id": "68793c8d",
   "metadata": {},
   "outputs": [],
   "source": [
    "#Pedir por teclado el nombre de un organismo y crear un archivo \n",
    "#solo con las secuencias de ese organismo\n",
    "name=input(\"Nombre de organismo: \")\n",
    "fichero = open('organismos.txt','w', encoding=\"utf8\") \n",
    "                     \n",
    "for header in sequences:\n",
    "    if name in header:\n",
    "        print(header,\":\", sequences[header])\n",
    "        #org.append(sequences[header])\n",
    "        #fichero.write(header)\n",
    "        fichero.write(sequences[header]) \n",
    "        fichero.write('\\n')\n",
    "\n",
    "file.close()    \n"
   ]
  },
  {
   "cell_type": "code",
   "execution_count": null,
   "id": "a29040af",
   "metadata": {},
   "outputs": [],
   "source": []
  }
 ],
 "metadata": {
  "kernelspec": {
   "display_name": "Python 3 (ipykernel)",
   "language": "python",
   "name": "python3"
  },
  "language_info": {
   "codemirror_mode": {
    "name": "ipython",
    "version": 3
   },
   "file_extension": ".py",
   "mimetype": "text/x-python",
   "name": "python",
   "nbconvert_exporter": "python",
   "pygments_lexer": "ipython3",
   "version": "3.9.7"
  }
 },
 "nbformat": 4,
 "nbformat_minor": 5
}
