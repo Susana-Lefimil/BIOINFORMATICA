{
 "cells": [
  {
   "cell_type": "markdown",
   "id": "4cbe8ebc",
   "metadata": {},
   "source": [
    "Ejercicio para la casa\n",
    "Realiza un programa que encripte un texto ingresado por teclado, para esto necesitas crear un diccionario de encriptación a tu gusto, por ejemplo:\n",
    "dict = {'a':'x', 'e':'j',  'i':'a', 'o':'b', 'u':'z'}\n",
    "\n",
    "Ahora, pide un texto por teclado y usa tu diccionario de encriptación para crear un nuevo texto cambiando cada una de las letras del texto original por su igualdad en tu diccionario."
   ]
  },
  {
   "cell_type": "code",
   "execution_count": null,
   "id": "81908be6",
   "metadata": {},
   "outputs": [],
   "source": [
    "pas = str(input(\"Ingrese la contraseña:\"))\n",
    "pas = pas.lower()\n",
    "dict = {'a':'x', 'e':'j',  'i':'a', 'o':'b', 'u':'z'}\n",
    "cont= 0\n",
    "i = 0\n",
    "j = 0\n",
    "\n",
    "print(len(pas))\n",
    "c= len(pas)\n",
    "g= len(dict)\n",
    "print(dict[i])\n",
    "print(len(dict))"
   ]
  }
 ],
 "metadata": {
  "kernelspec": {
   "display_name": "Python 3 (ipykernel)",
   "language": "python",
   "name": "python3"
  },
  "language_info": {
   "codemirror_mode": {
    "name": "ipython",
    "version": 3
   },
   "file_extension": ".py",
   "mimetype": "text/x-python",
   "name": "python",
   "nbconvert_exporter": "python",
   "pygments_lexer": "ipython3",
   "version": "3.9.7"
  }
 },
 "nbformat": 4,
 "nbformat_minor": 5
}
