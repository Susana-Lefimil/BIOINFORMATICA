{
 "cells": [
  {
   "cell_type": "code",
   "execution_count": 1,
   "id": "c099a8a2",
   "metadata": {},
   "outputs": [
    {
     "name": "stdout",
     "output_type": "stream",
     "text": [
      "\t6\t4\t6\n",
      "\t9\t10\t12\n",
      "\t12\t16\t18\n",
      "\n"
     ]
    }
   ],
   "source": [
    "#Ahora que estamos expertos, agreguenle el método __add__ que permita sumar 2 matrices de igual tamaño\n",
    "class matrix:\n",
    "    def __init__(self,matriz):\n",
    "        self.matriz = matriz \n",
    "    def __str__(self):\n",
    "        salida= \"\"\n",
    "        for fila in self.matriz:\n",
    "            for dato in fila:\n",
    "                salida += \"\\t\"+str(dato)\n",
    "            salida += \"\\n\"\n",
    "\n",
    "        return salida\n",
    "    def __add__(self, m):\n",
    "        #print(f'prueba {self.matriz} + {m.matriz}')\n",
    "        salida = []\n",
    "        for i in range (len(self.matriz)):\n",
    "                temp=[]\n",
    "                for j in range (len(m.matriz)):\n",
    "                    if j<=len(m.matriz):\n",
    "                        temp.append(self.matriz[i][j]+m.matriz[i][j])\n",
    "                salida.append(temp)\n",
    "        self.matriz=salida\n",
    "        \n",
    "m1 = [\n",
    "    [1,2,3],\n",
    "    [4,5,6],\n",
    "    [7,8,9]\n",
    "]\n",
    "\n",
    "m2 = [\n",
    "    [5,2,3],\n",
    "    [5,5,6],\n",
    "    [5,8,9]\n",
    "]\n",
    "\n",
    "mb = matrix(m2)\n",
    "new_matrix=matrix(m1)\n",
    "new_matrix.__add__(mb)\n",
    "print(new_matrix)"
   ]
  },
  {
   "cell_type": "code",
   "execution_count": 2,
   "id": "90012cab",
   "metadata": {},
   "outputs": [
    {
     "name": "stdout",
     "output_type": "stream",
     "text": [
      "1/2\n",
      "3/7\n"
     ]
    }
   ],
   "source": [
    "class Fraccion:\n",
    "    def __init__ (self, numerador= 1, denominador= 2): \n",
    "        self.numerador= numerador\n",
    "        self.denominador= denominador\n",
    "      \n",
    "    def __str__ (self):\n",
    "        return  f\"{self.numerador}/{self.denominador}\"\n",
    "    \n",
    "    def comparar(self, fraccion):\n",
    "        a = self.numerador / self.denominador\n",
    "        b = fraccion.numerador / fraccion.denominador\n",
    "        if a >= b:\n",
    "            return self\n",
    "        else:\n",
    "            return fraccion\n",
    "    \n",
    "    def __add__(self, fraccion):\n",
    "        a= self.numerador*fraccion.denominador + fraccion.numerador*self.denominador\n",
    "        b= self.denominador*fraccion.denominador\n",
    "        return Fraccion(a,b)\n",
    "    \n",
    "    def minimizar(self):\n",
    "  \n",
    "        while self.numerador % 2==0 and self.denominador % 2 == 0:\n",
    "            self.numerador=self.numerador/2\n",
    "            self.denominador=self.denominador/2   \n",
    "            self.numerador=int(self.numerador)\n",
    "            self.denominador=int(self.denominador)\n",
    "    \n",
    "        while self.numerador % 3==0 and self.denominador % 3== 0:\n",
    "            self.numerador=self.numerador/3\n",
    "            self.denominador=self.denominador/3   \n",
    "            self.numerador=int(self.numerador)\n",
    "            self.denominador=int(self.denominador)\n",
    "            \n",
    "        while self.numerador % 5==0 and self.denominador % 5== 0:\n",
    "            self.numerador=self.numerador/5\n",
    "            self.denominador=self.denominador/5   \n",
    "            self.numerador=int(self.numerador)\n",
    "            self.denominador=int(self.denominador)\n",
    "        \n",
    "        while self.numerador % 7==0 and self.denominador % 7== 0:\n",
    "            self.numerador=self.numerador/7\n",
    "            self.denominador=self.denominador/7   \n",
    "            self.numerador=int(self.numerador)\n",
    "            self.denominador=int(self.denominador)\n",
    "         \n",
    "        while self.numerador % 11==0 and self.denominador % 11== 0:\n",
    "            self.numerador=self.numerador/11\n",
    "            self.denominador=self.denominador/11   \n",
    "            self.numerador=int(self.numerador)\n",
    "            self.denominador=int(self.denominador)\n",
    "  \n",
    "        return self\n",
    "        \n",
    "\n",
    "f = Fraccion(4,8)\n",
    "f2 = f.minimizar()\n",
    "print(f2)\n",
    "\n",
    "#1/2\n",
    "f = Fraccion(21,49)\n",
    "f3 = f.minimizar()\n",
    "print(f3)"
   ]
  },
  {
   "cell_type": "code",
   "execution_count": null,
   "id": "7fd153ae",
   "metadata": {},
   "outputs": [],
   "source": []
  }
 ],
 "metadata": {
  "kernelspec": {
   "display_name": "Python 3 (ipykernel)",
   "language": "python",
   "name": "python3"
  },
  "language_info": {
   "codemirror_mode": {
    "name": "ipython",
    "version": 3
   },
   "file_extension": ".py",
   "mimetype": "text/x-python",
   "name": "python",
   "nbconvert_exporter": "python",
   "pygments_lexer": "ipython3",
   "version": "3.9.7"
  }
 },
 "nbformat": 4,
 "nbformat_minor": 5
}
