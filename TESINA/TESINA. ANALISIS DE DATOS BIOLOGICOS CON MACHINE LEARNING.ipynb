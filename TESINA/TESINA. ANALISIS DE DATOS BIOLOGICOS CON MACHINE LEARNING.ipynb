{
 "cells": [
  {
   "cell_type": "markdown",
   "id": "c28c713e",
   "metadata": {},
   "source": [
    "### ANALISIS DE DATOS BIOLOGICOS CON MACHINE LEARNING"
   ]
  },
  {
   "cell_type": "markdown",
   "id": "89709ab0",
   "metadata": {},
   "source": [
    "### Introducción"
   ]
  },
  {
   "cell_type": "raw",
   "id": "74345ee5",
   "metadata": {},
   "source": [
    "Al realizar un estudio científico es muy importante la recopilación de información. Esta información no solo está enfocada a los antecedentes que respalden dicho estudio, sino también a la recopilación de datos empíricos para estimar el fenómeno que queremos estudiar, sin embargo a veces dentro de estos mismos datos se encuentra conocimiento oculto y de gran interés. \n",
    "\n",
    "Mediante el uso de distintos algoritmos y programas informáticos, la Ciencia de Datos detecta patrones no triviales a simple vista, utilizando para ello la información que reside en los datos. Ejemplo de esto son los análisis diagnósticos de imágenes para determinar enfermedades o paneles genéticos para el diagnóstico de un cierto tipo de cáncer, los cuales son difíciles de verificar manualmente debido a la gran cantidad de datos. Para cumplir con el objetivo de la ciencia de datos es que existe el Machine Learning (Alpaydin, 2014).\n",
    "\n",
    "El Machine Learning es una herramienta de uso creciente en el área de la salud y clínica. El empleo de algoritmos matemáticos enfocados a la predicción nos permite obtener conocimiento a partir de datos y realizar predicciones a partir de nuevas instancias que se le suministren al algoritmo (Marín, 2019). \n",
    "\n",
    "Un algoritmo de Machine Learning recibe como entrada un conjunto de datos, y una serie de parámetros que permiten configurar el funcionamiento del algoritmo a las características de nuestro problema. La salida de este programa será el modelo o función matemática que establece la relación entre las variables de entrada y la de salida (Alpaydin, 2014).\n",
    "\n",
    "Existen dos tipos de técnicas de aprendizaje de Machine Learning; la primera llamada aprendizaje \"supervisado\", la cual corresponde a la utilizada en datos etiquetados, y la \"no supervisada\", la cual corresponde a datos crudos o no etiquetados. El primer caso se utiliza para predecir o clasificar, mientras que el segundo se utiliza para determinar la relación existente entre los datos del conjunto (Universidad Europea, 2022). El aprendizaje supervisado se encarga de resolver tareas de regresión (vector objetivo es un atributo numérico), y tareas de clasificación (vector objetivo es un atributo discreto) (Hastie et al, 2009). Se entiende como atributo a una variable. \n",
    "\n"
   ]
  },
  {
   "cell_type": "markdown",
   "id": "aa7ad272",
   "metadata": {},
   "source": [
    "#### Justificación"
   ]
  },
  {
   "cell_type": "raw",
   "id": "c13af2a2",
   "metadata": {},
   "source": [
    "En el ámbito científico y médico existe mucha información en datos que se puede estudiar, como por ejemplo; análisis de sangre, análisis de orina, expresión de genes, etc. La colección de todos los datos nos permite dar una panorámica (aún incompleta) sobre el fenómeno y por medio de Machine Learning, podemos entender el efecto de ciertos atributos sobre nuestro vector objetivo, siendo aplicable para nuestra base de datos estudiada como para información nueva (replicabilidad). Lo anterior es solo un ejemplo de varias cosas que podemos obtener utilizando estás técnicas informáticas en bases de datos biológicas."
   ]
  },
  {
   "cell_type": "markdown",
   "id": "17fa5789",
   "metadata": {},
   "source": [
    "#### Objetivo General"
   ]
  },
  {
   "cell_type": "raw",
   "id": "f39cc1c8",
   "metadata": {},
   "source": [
    "El presente trabajo tiene por objetivo utilizar técnicas de Machine Learning de tipo supervisado para analizar distintas bases \n",
    "de datos biológicos, y obtener modelos de predicción de regresión y clasificación.  "
   ]
  },
  {
   "cell_type": "markdown",
   "id": "c4fd9d3e",
   "metadata": {},
   "source": [
    "#### Objetivos Específicos"
   ]
  },
  {
   "cell_type": "raw",
   "id": "4f1283a5",
   "metadata": {},
   "source": [
    "1. Explorar distintos modelos de regresión y clasificación dependiendo de la tarea que se quiera resolver."
   ]
  },
  {
   "cell_type": "raw",
   "id": "17e70139",
   "metadata": {},
   "source": [
    "2. Comparar las métricas de cada modelo generado para cada tipo de tarea."
   ]
  },
  {
   "cell_type": "raw",
   "id": "1507dd2e",
   "metadata": {},
   "source": [
    "3. Determinar el mejor modelo para cada tarea."
   ]
  },
  {
   "cell_type": "markdown",
   "id": "7a798cc2",
   "metadata": {},
   "source": [
    "### Metodología."
   ]
  },
  {
   "cell_type": "raw",
   "id": "520328f7",
   "metadata": {},
   "source": [
    "Para realizar el presente trabajo se utilizaron dos bases de datos. La primera corresponde a un estudio sobre obesidad infantil, la cual, se utilizó para generar distintos modelos de regresión lineal. La segunda corresponde a un estudio de detección de melanoma mediante datos ómicos, la cual, se usó para genera modelos de clasificación. Estos modelos se compararon entre sí para determinar el mejor ajuste a cada problema correspondiente. \n",
    "\n",
    "Se utilizó el lenguaje de programación Python y la interfaz Jupyter Notebook, con la idea de poder utilizar las distintas librerías de análisis de datos, estás son:\n",
    "- Pandas\n",
    "- Nympy\n",
    "- Matplotlib\n",
    "- Seaborn. \n",
    "\n",
    "Para implementar distintos algoritmos de Machine Learning utilizó la librería Sklearn. Esta contiene distintos herramientas eficientes para aprendizaje automático y modelado estadístico. Los algoritmos utilizados son:\n",
    "\n",
    "Modelos de regresión:\n",
    "- Regresion lineal descriptiva\n",
    "- Regresion lineal predictiva\n",
    "- Máquinas de Soporte Vectorial (regresión)\n",
    "- Árboles de decisión (regresión)\n",
    "- Ramdom forest (regresión)\n",
    "\n",
    "\n",
    "Modelos de clasificación:\n",
    "- Regresión logística predictiva\n",
    "- Máquinas de Soporte Vectorial (clasificación)\n",
    "- KNN (clasificación)\n",
    "- Random forest (clasificación)\n",
    "\n",
    "También se utilizaron métodos de Sklearn como StandardScaler, accuracy_score, roc_auc_score, etc con la finalidad\n",
    "de preprocesar u obtener métricas de validación para la óptima generación de modelos. El detalle se encuentra en el bloque siguiente. \n",
    "\n",
    "Finalmente se utilizó el archivo Python \"funciones_1.py\" con funciones construidas para distinto requerimientos que se fueron presentando en el presente estudio."
   ]
  },
  {
   "cell_type": "markdown",
   "id": "e684eb5c",
   "metadata": {},
   "source": [
    "#### Preparación de ambiente de trabajo"
   ]
  },
  {
   "cell_type": "code",
   "execution_count": 1,
   "id": "cf91dbd9",
   "metadata": {},
   "outputs": [],
   "source": [
    "#Se importan las liberías a utilizar. \n",
    "import pandas as pd\n",
    "import numpy as np\n",
    "import matplotlib.pyplot as plt\n",
    "import seaborn as sns\n",
    "\n",
    "\n",
    "from sklearn.model_selection import train_test_split\n",
    "from sklearn.preprocessing import LabelBinarizer\n",
    "from sklearn.preprocessing import StandardScaler\n",
    "from sklearn.model_selection import cross_val_score\n",
    "from sklearn.metrics import accuracy_score, roc_auc_score, classification_report\n",
    "from sklearn.svm import SVC\n",
    "from sklearn.svm import SVR\n",
    "from sklearn.pipeline import Pipeline\n",
    "\n",
    "#Para regresiones\n",
    "from sklearn import linear_model\n",
    "from sklearn.metrics import mean_squared_error, r2_score, median_absolute_error\n",
    "from sklearn.preprocessing import PolynomialFeatures as polynom\n",
    "from sklearn.linear_model import LinearRegression as linreg\n",
    "from sklearn.model_selection import GridSearchCV\n",
    "from sklearn.linear_model import LogisticRegression\n",
    "import statsmodels.formula.api as smf\n",
    "from sklearn.cluster import KMeans\n",
    "from sklearn.cluster import MiniBatchKMeans\n",
    "from sklearn.decomposition import PCA as RandomizedPCA\n",
    "\n",
    "#librería para árboles de decisión\n",
    "from sklearn.tree import DecisionTreeRegressor\n",
    "from sklearn.tree import DecisionTreeClassifier\n",
    "\n",
    "#librería para pre procesamiento\n",
    "from sklearn.preprocessing import LabelEncoder\n",
    "from IPython.display import Image\n",
    "\n",
    "#libreria para random forest\n",
    "from sklearn.ensemble import RandomForestClassifier\n",
    "from sklearn.ensemble import RandomForestRegressor\n",
    "\n",
    "#Metricas para clasificación\n",
    "from sklearn.metrics import roc_auc_score\n",
    "from sklearn.metrics import roc_curve\n",
    "from sklearn.metrics import accuracy_score\n",
    "\n",
    "#knn\n",
    "from sklearn.neighbors import KNeighborsClassifier\n",
    "\n",
    "import warnings\n",
    "warnings.filterwarnings(\"ignore\")\n",
    "\n",
    "from funciones_1 import*"
   ]
  },
  {
   "cell_type": "markdown",
   "id": "5b03bc48",
   "metadata": {},
   "source": [
    "### Modelos de regresión."
   ]
  },
  {
   "cell_type": "raw",
   "id": "e5dded5b",
   "metadata": {},
   "source": [
    "El primer análisis se realizó en una base de datos de un estudio sobre obesidad infantil. La información recolectada presenta las siguientes variables. \n",
    "\n",
    "Sexo: Codificado como 0 si el individuo es un varón, o 1 si es una mujer. \n",
    "Age: Edad.\n",
    "Height: Altura.\n",
    "Tanner: Estadío puberal (codificado como 0 para el estadío pre-puberal y 1 para el estadío puberal).\n",
    "DBP: Presión sanguínea (tensión diastólica).\n",
    "SBP: Presión sanguínea (tensión sistólica). \n",
    "Sedentary: Sedentarismo.\n",
    "Light: Actividad física ligera.\n",
    "Moderate: Actividad física moderada. \n",
    "Vigorous: Actividad física vigorosa. \n",
    "BMI: Body Mass Index (Índice de Masa Corporal).\n",
    "WC : Waist Circumference (Circunferencia de cintura).\n",
    "TAG: triglicéridos en miligramos/decilitro.\n",
    "HDL, high-density lipoprotein (Colesterol \"Bueno\") en miligramos/decilitro.\n",
    "LDL, Low-density lipoprotein (Colesterol \"Malo\") en miligramos/decilitro.\n",
    "HOMA: Índice de resistencia a la insulina.\n",
    "\n",
    "Considerando que tenemos información de obesidad y sabiendo además que la resistencia a la insulina mediante el uso del HOMA como criterio único, se ha visto asociada de forma adecuada con la adiposidad y el estado metabólico de los pacientes (Nso-Roca, 2021), es que se determinó a la variable HOMA como vector objetivo para los modelos de regresión. \n",
    "\n",
    "\n",
    "El primer paso para cualquier estudio de data science y paso previo a la implementación de algoritmos de Machine Learning es la exploración de datos y pre procesamiento de datos."
   ]
  },
  {
   "cell_type": "markdown",
   "id": "88a0cc7e",
   "metadata": {},
   "source": [
    "####  Exploración y pre procesamiento de datos."
   ]
  },
  {
   "cell_type": "code",
   "execution_count": 2,
   "id": "884a4d21",
   "metadata": {},
   "outputs": [],
   "source": [
    "#Importamos la base\n",
    "df = pd.read_csv('homa.csv')"
   ]
  },
  {
   "cell_type": "code",
   "execution_count": 3,
   "id": "2f8f20fc",
   "metadata": {},
   "outputs": [
    {
     "data": {
      "text/html": [
       "<div>\n",
       "<style scoped>\n",
       "    .dataframe tbody tr th:only-of-type {\n",
       "        vertical-align: middle;\n",
       "    }\n",
       "\n",
       "    .dataframe tbody tr th {\n",
       "        vertical-align: top;\n",
       "    }\n",
       "\n",
       "    .dataframe thead th {\n",
       "        text-align: right;\n",
       "    }\n",
       "</style>\n",
       "<table border=\"1\" class=\"dataframe\">\n",
       "  <thead>\n",
       "    <tr style=\"text-align: right;\">\n",
       "      <th></th>\n",
       "      <th>Sex</th>\n",
       "      <th>Age</th>\n",
       "      <th>Tanner</th>\n",
       "      <th>Height</th>\n",
       "      <th>BMI</th>\n",
       "      <th>WC</th>\n",
       "      <th>TAGmgDL</th>\n",
       "      <th>HDLCmgDL</th>\n",
       "      <th>LDLCmgDL</th>\n",
       "      <th>SBP</th>\n",
       "      <th>DBP</th>\n",
       "      <th>Sedentary</th>\n",
       "      <th>Light</th>\n",
       "      <th>Moderate</th>\n",
       "      <th>Vigorous</th>\n",
       "      <th>HOMA</th>\n",
       "    </tr>\n",
       "  </thead>\n",
       "  <tbody>\n",
       "    <tr>\n",
       "      <th>105</th>\n",
       "      <td>0</td>\n",
       "      <td>12.1</td>\n",
       "      <td>1</td>\n",
       "      <td>1.55</td>\n",
       "      <td>20.32</td>\n",
       "      <td>67.0</td>\n",
       "      <td>55</td>\n",
       "      <td>55</td>\n",
       "      <td>90</td>\n",
       "      <td>68</td>\n",
       "      <td>67</td>\n",
       "      <td>326.416667</td>\n",
       "      <td>273.809524</td>\n",
       "      <td>44.035714</td>\n",
       "      <td>14.178571</td>\n",
       "      <td>1.39</td>\n",
       "    </tr>\n",
       "    <tr>\n",
       "      <th>161</th>\n",
       "      <td>0</td>\n",
       "      <td>4.6</td>\n",
       "      <td>0</td>\n",
       "      <td>1.13</td>\n",
       "      <td>24.12</td>\n",
       "      <td>70.0</td>\n",
       "      <td>56</td>\n",
       "      <td>51</td>\n",
       "      <td>68</td>\n",
       "      <td>103</td>\n",
       "      <td>58</td>\n",
       "      <td>286.553571</td>\n",
       "      <td>385.508929</td>\n",
       "      <td>39.348214</td>\n",
       "      <td>6.669643</td>\n",
       "      <td>0.39</td>\n",
       "    </tr>\n",
       "    <tr>\n",
       "      <th>230</th>\n",
       "      <td>1</td>\n",
       "      <td>11.1</td>\n",
       "      <td>0</td>\n",
       "      <td>1.42</td>\n",
       "      <td>27.32</td>\n",
       "      <td>93.0</td>\n",
       "      <td>60</td>\n",
       "      <td>67</td>\n",
       "      <td>95</td>\n",
       "      <td>124</td>\n",
       "      <td>75</td>\n",
       "      <td>352.523810</td>\n",
       "      <td>336.857143</td>\n",
       "      <td>35.571429</td>\n",
       "      <td>18.261905</td>\n",
       "      <td>1.98</td>\n",
       "    </tr>\n",
       "    <tr>\n",
       "      <th>287</th>\n",
       "      <td>0</td>\n",
       "      <td>13.0</td>\n",
       "      <td>1</td>\n",
       "      <td>1.56</td>\n",
       "      <td>32.64</td>\n",
       "      <td>104.5</td>\n",
       "      <td>157</td>\n",
       "      <td>21</td>\n",
       "      <td>79</td>\n",
       "      <td>104</td>\n",
       "      <td>62</td>\n",
       "      <td>525.083333</td>\n",
       "      <td>211.095238</td>\n",
       "      <td>43.214286</td>\n",
       "      <td>16.416667</td>\n",
       "      <td>4.22</td>\n",
       "    </tr>\n",
       "    <tr>\n",
       "      <th>13</th>\n",
       "      <td>0</td>\n",
       "      <td>11.0</td>\n",
       "      <td>1</td>\n",
       "      <td>1.47</td>\n",
       "      <td>14.76</td>\n",
       "      <td>60.0</td>\n",
       "      <td>51</td>\n",
       "      <td>65</td>\n",
       "      <td>83</td>\n",
       "      <td>99</td>\n",
       "      <td>67</td>\n",
       "      <td>478.946429</td>\n",
       "      <td>243.196429</td>\n",
       "      <td>40.464286</td>\n",
       "      <td>18.178571</td>\n",
       "      <td>1.18</td>\n",
       "    </tr>\n",
       "    <tr>\n",
       "      <th>217</th>\n",
       "      <td>0</td>\n",
       "      <td>8.2</td>\n",
       "      <td>0</td>\n",
       "      <td>1.36</td>\n",
       "      <td>26.39</td>\n",
       "      <td>90.0</td>\n",
       "      <td>51</td>\n",
       "      <td>47</td>\n",
       "      <td>103</td>\n",
       "      <td>114</td>\n",
       "      <td>62</td>\n",
       "      <td>524.785714</td>\n",
       "      <td>264.875000</td>\n",
       "      <td>29.767857</td>\n",
       "      <td>6.035714</td>\n",
       "      <td>0.87</td>\n",
       "    </tr>\n",
       "    <tr>\n",
       "      <th>201</th>\n",
       "      <td>1</td>\n",
       "      <td>9.9</td>\n",
       "      <td>1</td>\n",
       "      <td>1.51</td>\n",
       "      <td>25.61</td>\n",
       "      <td>85.0</td>\n",
       "      <td>59</td>\n",
       "      <td>44</td>\n",
       "      <td>63</td>\n",
       "      <td>111</td>\n",
       "      <td>61</td>\n",
       "      <td>417.059524</td>\n",
       "      <td>193.452381</td>\n",
       "      <td>21.559524</td>\n",
       "      <td>45.214286</td>\n",
       "      <td>0.82</td>\n",
       "    </tr>\n",
       "    <tr>\n",
       "      <th>189</th>\n",
       "      <td>0</td>\n",
       "      <td>9.4</td>\n",
       "      <td>0</td>\n",
       "      <td>1.38</td>\n",
       "      <td>25.25</td>\n",
       "      <td>75.0</td>\n",
       "      <td>44</td>\n",
       "      <td>49</td>\n",
       "      <td>96</td>\n",
       "      <td>113</td>\n",
       "      <td>62</td>\n",
       "      <td>398.023810</td>\n",
       "      <td>227.345238</td>\n",
       "      <td>45.000000</td>\n",
       "      <td>9.011905</td>\n",
       "      <td>2.05</td>\n",
       "    </tr>\n",
       "    <tr>\n",
       "      <th>151</th>\n",
       "      <td>0</td>\n",
       "      <td>11.5</td>\n",
       "      <td>1</td>\n",
       "      <td>1.56</td>\n",
       "      <td>23.33</td>\n",
       "      <td>85.0</td>\n",
       "      <td>113</td>\n",
       "      <td>55</td>\n",
       "      <td>99</td>\n",
       "      <td>118</td>\n",
       "      <td>85</td>\n",
       "      <td>413.285714</td>\n",
       "      <td>283.773810</td>\n",
       "      <td>29.952381</td>\n",
       "      <td>3.630952</td>\n",
       "      <td>1.98</td>\n",
       "    </tr>\n",
       "    <tr>\n",
       "      <th>86</th>\n",
       "      <td>0</td>\n",
       "      <td>13.0</td>\n",
       "      <td>1</td>\n",
       "      <td>1.45</td>\n",
       "      <td>18.74</td>\n",
       "      <td>69.0</td>\n",
       "      <td>87</td>\n",
       "      <td>64</td>\n",
       "      <td>122</td>\n",
       "      <td>103</td>\n",
       "      <td>70</td>\n",
       "      <td>583.119048</td>\n",
       "      <td>226.940476</td>\n",
       "      <td>45.059524</td>\n",
       "      <td>16.964286</td>\n",
       "      <td>1.83</td>\n",
       "    </tr>\n",
       "  </tbody>\n",
       "</table>\n",
       "</div>"
      ],
      "text/plain": [
       "     Sex   Age   Tanner   Height    BMI     WC   TAGmgDL   HDLCmgDL  \\\n",
       "105    0  12.1        1     1.55  20.32   67.0        55         55   \n",
       "161    0   4.6        0     1.13  24.12   70.0        56         51   \n",
       "230    1  11.1        0     1.42  27.32   93.0        60         67   \n",
       "287    0  13.0        1     1.56  32.64  104.5       157         21   \n",
       "13     0  11.0        1     1.47  14.76   60.0        51         65   \n",
       "217    0   8.2        0     1.36  26.39   90.0        51         47   \n",
       "201    1   9.9        1     1.51  25.61   85.0        59         44   \n",
       "189    0   9.4        0     1.38  25.25   75.0        44         49   \n",
       "151    0  11.5        1     1.56  23.33   85.0       113         55   \n",
       "86     0  13.0        1     1.45  18.74   69.0        87         64   \n",
       "\n",
       "      LDLCmgDL   SBP   DBP   Sedentary       Light   Moderate   Vigorous  \\\n",
       "105         90    68    67  326.416667  273.809524  44.035714  14.178571   \n",
       "161         68   103    58  286.553571  385.508929  39.348214   6.669643   \n",
       "230         95   124    75  352.523810  336.857143  35.571429  18.261905   \n",
       "287         79   104    62  525.083333  211.095238  43.214286  16.416667   \n",
       "13          83    99    67  478.946429  243.196429  40.464286  18.178571   \n",
       "217        103   114    62  524.785714  264.875000  29.767857   6.035714   \n",
       "201         63   111    61  417.059524  193.452381  21.559524  45.214286   \n",
       "189         96   113    62  398.023810  227.345238  45.000000   9.011905   \n",
       "151         99   118    85  413.285714  283.773810  29.952381   3.630952   \n",
       "86         122   103    70  583.119048  226.940476  45.059524  16.964286   \n",
       "\n",
       "      HOMA  \n",
       "105   1.39  \n",
       "161   0.39  \n",
       "230   1.98  \n",
       "287   4.22  \n",
       "13    1.18  \n",
       "217   0.87  \n",
       "201   0.82  \n",
       "189   2.05  \n",
       "151   1.98  \n",
       "86    1.83  "
      ]
     },
     "execution_count": 3,
     "metadata": {},
     "output_type": "execute_result"
    }
   ],
   "source": [
    "#Revisamos el df\n",
    "df.sample(10)"
   ]
  },
  {
   "cell_type": "code",
   "execution_count": 4,
   "id": "431e30dc",
   "metadata": {},
   "outputs": [
    {
     "name": "stdout",
     "output_type": "stream",
     "text": [
      "<class 'pandas.core.frame.DataFrame'>\n",
      "RangeIndex: 292 entries, 0 to 291\n",
      "Data columns (total 16 columns):\n",
      " #   Column      Non-Null Count  Dtype  \n",
      "---  ------      --------------  -----  \n",
      " 0   Sex         292 non-null    int64  \n",
      " 1    Age        292 non-null    float64\n",
      " 2    Tanner     292 non-null    int64  \n",
      " 3    Height     292 non-null    float64\n",
      " 4    BMI        292 non-null    float64\n",
      " 5    WC         292 non-null    float64\n",
      " 6    TAGmgDL    292 non-null    int64  \n",
      " 7    HDLCmgDL   292 non-null    int64  \n",
      " 8    LDLCmgDL   292 non-null    int64  \n",
      " 9    SBP        292 non-null    int64  \n",
      " 10   DBP        292 non-null    int64  \n",
      " 11   Sedentary  292 non-null    float64\n",
      " 12   Light      292 non-null    float64\n",
      " 13   Moderate   292 non-null    float64\n",
      " 14   Vigorous   292 non-null    float64\n",
      " 15   HOMA       292 non-null    float64\n",
      "dtypes: float64(9), int64(7)\n",
      "memory usage: 36.6 KB\n"
     ]
    }
   ],
   "source": [
    "df.info()"
   ]
  },
  {
   "cell_type": "code",
   "execution_count": 5,
   "id": "7a1cb902",
   "metadata": {},
   "outputs": [
    {
     "data": {
      "text/plain": [
       "Sex           0\n",
       " Age          0\n",
       " Tanner       0\n",
       " Height       0\n",
       " BMI          0\n",
       " WC           0\n",
       " TAGmgDL      0\n",
       " HDLCmgDL     0\n",
       " LDLCmgDL     0\n",
       " SBP          0\n",
       " DBP          0\n",
       " Sedentary    0\n",
       " Light        0\n",
       " Moderate     0\n",
       " Vigorous     0\n",
       " HOMA         0\n",
       "dtype: int64"
      ]
     },
     "execution_count": 5,
     "metadata": {},
     "output_type": "execute_result"
    }
   ],
   "source": [
    "df.isnull().sum()"
   ]
  },
  {
   "cell_type": "raw",
   "id": "7e9c74e1",
   "metadata": {},
   "source": [
    "El data frame contiene valores enteros y decimales, sin datos nulos, esto significa que no debemos eliminar data que no aporte información, no se debe pre procesar datos.  "
   ]
  },
  {
   "cell_type": "markdown",
   "id": "57e73278",
   "metadata": {},
   "source": [
    "##### Inspección de variables"
   ]
  },
  {
   "cell_type": "code",
   "execution_count": 6,
   "id": "203a07c7",
   "metadata": {},
   "outputs": [
    {
     "data": {
      "text/plain": [
       "(292, 16)"
      ]
     },
     "execution_count": 6,
     "metadata": {},
     "output_type": "execute_result"
    }
   ],
   "source": [
    "#Atributos o variables\n",
    "df.shape"
   ]
  },
  {
   "cell_type": "raw",
   "id": "a2074891",
   "metadata": {},
   "source": [
    "Tenemos 292 filas (pacientes) y 16 atributos."
   ]
  },
  {
   "cell_type": "code",
   "execution_count": 7,
   "id": "05bbc63a",
   "metadata": {},
   "outputs": [
    {
     "data": {
      "text/html": [
       "<div>\n",
       "<style scoped>\n",
       "    .dataframe tbody tr th:only-of-type {\n",
       "        vertical-align: middle;\n",
       "    }\n",
       "\n",
       "    .dataframe tbody tr th {\n",
       "        vertical-align: top;\n",
       "    }\n",
       "\n",
       "    .dataframe thead th {\n",
       "        text-align: right;\n",
       "    }\n",
       "</style>\n",
       "<table border=\"1\" class=\"dataframe\">\n",
       "  <thead>\n",
       "    <tr style=\"text-align: right;\">\n",
       "      <th></th>\n",
       "      <th>Sex</th>\n",
       "      <th>Age</th>\n",
       "      <th>Tanner</th>\n",
       "      <th>Height</th>\n",
       "      <th>BMI</th>\n",
       "      <th>WC</th>\n",
       "      <th>TAGmgDL</th>\n",
       "      <th>HDLCmgDL</th>\n",
       "      <th>LDLCmgDL</th>\n",
       "      <th>SBP</th>\n",
       "      <th>DBP</th>\n",
       "      <th>Sedentary</th>\n",
       "      <th>Light</th>\n",
       "      <th>Moderate</th>\n",
       "      <th>Vigorous</th>\n",
       "      <th>HOMA</th>\n",
       "    </tr>\n",
       "  </thead>\n",
       "  <tbody>\n",
       "    <tr>\n",
       "      <th>count</th>\n",
       "      <td>292.000000</td>\n",
       "      <td>292.000000</td>\n",
       "      <td>292.000000</td>\n",
       "      <td>292.000000</td>\n",
       "      <td>292.000000</td>\n",
       "      <td>292.000000</td>\n",
       "      <td>292.000000</td>\n",
       "      <td>292.000000</td>\n",
       "      <td>292.000000</td>\n",
       "      <td>292.000000</td>\n",
       "      <td>292.000000</td>\n",
       "      <td>292.000000</td>\n",
       "      <td>292.000000</td>\n",
       "      <td>292.000000</td>\n",
       "      <td>292.000000</td>\n",
       "      <td>292.000000</td>\n",
       "    </tr>\n",
       "    <tr>\n",
       "      <th>mean</th>\n",
       "      <td>0.496575</td>\n",
       "      <td>10.171918</td>\n",
       "      <td>0.332192</td>\n",
       "      <td>1.413836</td>\n",
       "      <td>22.657500</td>\n",
       "      <td>77.352740</td>\n",
       "      <td>62.297945</td>\n",
       "      <td>53.383562</td>\n",
       "      <td>97.486301</td>\n",
       "      <td>107.787671</td>\n",
       "      <td>64.263699</td>\n",
       "      <td>466.729309</td>\n",
       "      <td>252.948661</td>\n",
       "      <td>38.493844</td>\n",
       "      <td>15.018193</td>\n",
       "      <td>1.627500</td>\n",
       "    </tr>\n",
       "    <tr>\n",
       "      <th>std</th>\n",
       "      <td>0.500847</td>\n",
       "      <td>2.384925</td>\n",
       "      <td>0.471808</td>\n",
       "      <td>0.141172</td>\n",
       "      <td>5.394935</td>\n",
       "      <td>15.798076</td>\n",
       "      <td>30.355119</td>\n",
       "      <td>14.544521</td>\n",
       "      <td>26.485485</td>\n",
       "      <td>13.168070</td>\n",
       "      <td>9.237362</td>\n",
       "      <td>85.826327</td>\n",
       "      <td>55.902240</td>\n",
       "      <td>13.636752</td>\n",
       "      <td>10.269178</td>\n",
       "      <td>1.055574</td>\n",
       "    </tr>\n",
       "    <tr>\n",
       "      <th>min</th>\n",
       "      <td>0.000000</td>\n",
       "      <td>3.100000</td>\n",
       "      <td>0.000000</td>\n",
       "      <td>1.000000</td>\n",
       "      <td>11.340000</td>\n",
       "      <td>46.300000</td>\n",
       "      <td>20.000000</td>\n",
       "      <td>21.000000</td>\n",
       "      <td>39.000000</td>\n",
       "      <td>68.000000</td>\n",
       "      <td>41.000000</td>\n",
       "      <td>279.660714</td>\n",
       "      <td>77.166667</td>\n",
       "      <td>6.303571</td>\n",
       "      <td>1.095238</td>\n",
       "      <td>0.120000</td>\n",
       "    </tr>\n",
       "    <tr>\n",
       "      <th>25%</th>\n",
       "      <td>0.000000</td>\n",
       "      <td>8.275000</td>\n",
       "      <td>0.000000</td>\n",
       "      <td>1.317500</td>\n",
       "      <td>17.695000</td>\n",
       "      <td>64.000000</td>\n",
       "      <td>42.750000</td>\n",
       "      <td>43.000000</td>\n",
       "      <td>80.000000</td>\n",
       "      <td>99.000000</td>\n",
       "      <td>59.000000</td>\n",
       "      <td>407.928571</td>\n",
       "      <td>216.029762</td>\n",
       "      <td>28.982143</td>\n",
       "      <td>7.163690</td>\n",
       "      <td>0.925000</td>\n",
       "    </tr>\n",
       "    <tr>\n",
       "      <th>50%</th>\n",
       "      <td>0.000000</td>\n",
       "      <td>10.300000</td>\n",
       "      <td>0.000000</td>\n",
       "      <td>1.410000</td>\n",
       "      <td>23.070000</td>\n",
       "      <td>76.250000</td>\n",
       "      <td>55.000000</td>\n",
       "      <td>51.000000</td>\n",
       "      <td>96.000000</td>\n",
       "      <td>108.000000</td>\n",
       "      <td>64.000000</td>\n",
       "      <td>458.154762</td>\n",
       "      <td>256.223215</td>\n",
       "      <td>37.383928</td>\n",
       "      <td>12.770833</td>\n",
       "      <td>1.425000</td>\n",
       "    </tr>\n",
       "    <tr>\n",
       "      <th>75%</th>\n",
       "      <td>1.000000</td>\n",
       "      <td>12.000000</td>\n",
       "      <td>1.000000</td>\n",
       "      <td>1.510000</td>\n",
       "      <td>26.400000</td>\n",
       "      <td>90.625000</td>\n",
       "      <td>73.000000</td>\n",
       "      <td>62.000000</td>\n",
       "      <td>112.250000</td>\n",
       "      <td>116.000000</td>\n",
       "      <td>70.000000</td>\n",
       "      <td>514.648810</td>\n",
       "      <td>287.375000</td>\n",
       "      <td>46.633929</td>\n",
       "      <td>18.868304</td>\n",
       "      <td>2.052500</td>\n",
       "    </tr>\n",
       "    <tr>\n",
       "      <th>max</th>\n",
       "      <td>1.000000</td>\n",
       "      <td>15.800000</td>\n",
       "      <td>1.000000</td>\n",
       "      <td>1.770000</td>\n",
       "      <td>35.410000</td>\n",
       "      <td>117.000000</td>\n",
       "      <td>254.000000</td>\n",
       "      <td>100.000000</td>\n",
       "      <td>184.000000</td>\n",
       "      <td>156.000000</td>\n",
       "      <td>118.000000</td>\n",
       "      <td>767.892857</td>\n",
       "      <td>402.476190</td>\n",
       "      <td>75.178571</td>\n",
       "      <td>64.119048</td>\n",
       "      <td>8.990000</td>\n",
       "    </tr>\n",
       "  </tbody>\n",
       "</table>\n",
       "</div>"
      ],
      "text/plain": [
       "              Sex         Age      Tanner      Height         BMI          WC  \\\n",
       "count  292.000000  292.000000  292.000000  292.000000  292.000000  292.000000   \n",
       "mean     0.496575   10.171918    0.332192    1.413836   22.657500   77.352740   \n",
       "std      0.500847    2.384925    0.471808    0.141172    5.394935   15.798076   \n",
       "min      0.000000    3.100000    0.000000    1.000000   11.340000   46.300000   \n",
       "25%      0.000000    8.275000    0.000000    1.317500   17.695000   64.000000   \n",
       "50%      0.000000   10.300000    0.000000    1.410000   23.070000   76.250000   \n",
       "75%      1.000000   12.000000    1.000000    1.510000   26.400000   90.625000   \n",
       "max      1.000000   15.800000    1.000000    1.770000   35.410000  117.000000   \n",
       "\n",
       "          TAGmgDL    HDLCmgDL    LDLCmgDL         SBP         DBP   Sedentary  \\\n",
       "count  292.000000  292.000000  292.000000  292.000000  292.000000  292.000000   \n",
       "mean    62.297945   53.383562   97.486301  107.787671   64.263699  466.729309   \n",
       "std     30.355119   14.544521   26.485485   13.168070    9.237362   85.826327   \n",
       "min     20.000000   21.000000   39.000000   68.000000   41.000000  279.660714   \n",
       "25%     42.750000   43.000000   80.000000   99.000000   59.000000  407.928571   \n",
       "50%     55.000000   51.000000   96.000000  108.000000   64.000000  458.154762   \n",
       "75%     73.000000   62.000000  112.250000  116.000000   70.000000  514.648810   \n",
       "max    254.000000  100.000000  184.000000  156.000000  118.000000  767.892857   \n",
       "\n",
       "            Light    Moderate    Vigorous        HOMA  \n",
       "count  292.000000  292.000000  292.000000  292.000000  \n",
       "mean   252.948661   38.493844   15.018193    1.627500  \n",
       "std     55.902240   13.636752   10.269178    1.055574  \n",
       "min     77.166667    6.303571    1.095238    0.120000  \n",
       "25%    216.029762   28.982143    7.163690    0.925000  \n",
       "50%    256.223215   37.383928   12.770833    1.425000  \n",
       "75%    287.375000   46.633929   18.868304    2.052500  \n",
       "max    402.476190   75.178571   64.119048    8.990000  "
      ]
     },
     "execution_count": 7,
     "metadata": {},
     "output_type": "execute_result"
    }
   ],
   "source": [
    "df.describe() #Variables continuas y discretas"
   ]
  },
  {
   "cell_type": "markdown",
   "id": "4913bc1b",
   "metadata": {},
   "source": [
    "##### Visualización de atributos"
   ]
  },
  {
   "cell_type": "code",
   "execution_count": 8,
   "id": "14812275",
   "metadata": {},
   "outputs": [
    {
     "data": {
      "image/png": "[encoded data removed]",
      "text/plain": [
       "<Figure size 1152x1440 with 16 Axes>"
      ]
     },
     "metadata": {
      "needs_background": "light"
     },
     "output_type": "display_data"
    }
   ],
   "source": [
    "grafico_atr(df)"
   ]
  },
  {
   "cell_type": "raw",
   "id": "23be8aa8",
   "metadata": {},
   "source": [
    "Podemos ver que las variables Sexo y Tanner son binarias y ya están codificadas con 0 y 1. También podemos ver en los histogramas de frecuencia de las demás variables, que los datos se encuentran concentrados en los datos centrales, a excepción de  Vigorous, TAGmgDL y Homa que se muestran sesgo positivo.\n",
    "\n",
    "Se decide no escalar los datos para evitar mayor perdida de información (la base contiene 292 instancias)."
   ]
  },
  {
   "cell_type": "code",
   "execution_count": 9,
   "id": "4e3672fd",
   "metadata": {},
   "outputs": [],
   "source": [
    "# se saca el espacio en el nombre de la variable\n",
    "df.columns = df.columns.str.replace(' ', '')"
   ]
  },
  {
   "cell_type": "code",
   "execution_count": 10,
   "id": "55c048f1",
   "metadata": {},
   "outputs": [
    {
     "data": {
      "text/plain": [
       "count    292.000000\n",
       "mean       1.627500\n",
       "std        1.055574\n",
       "min        0.120000\n",
       "25%        0.925000\n",
       "50%        1.425000\n",
       "75%        2.052500\n",
       "max        8.990000\n",
       "Name: HOMA, dtype: float64"
      ]
     },
     "execution_count": 10,
     "metadata": {},
     "output_type": "execute_result"
    }
   ],
   "source": [
    "df['HOMA'].describe() # descripción de vector a predecir"
   ]
  },
  {
   "cell_type": "raw",
   "id": "27fa8176",
   "metadata": {},
   "source": [
    "En la inspección de información se encontró que la base de datos tiene una cantidad suficiente de datos, sin necesidad de pre procesamiento de la información, debido a que no se encontraron datos nulos o sin sentido, como también no hubo necesidad de binarizar atributos. Se procede a la modelación descriptiva. "
   ]
  },
  {
   "cell_type": "markdown",
   "id": "d60b47f3",
   "metadata": {},
   "source": [
    "#### Modelación descriptiva (Regresión lineal)"
   ]
  },
  {
   "cell_type": "raw",
   "id": "5d483507",
   "metadata": {},
   "source": [
    "Este proceso utilizó el módulo statsmodels en python y se realizó para determinar las variables de mayor importancia para el modelo y tener una idea general de la base de datos. Se generó un modelo con todos los regresores y luego se fueron descartando variables para mejorar el modelo. "
   ]
  },
  {
   "cell_type": "code",
   "execution_count": 11,
   "id": "b7863ede",
   "metadata": {},
   "outputs": [
    {
     "data": {
      "text/plain": [
       "'Sex+Age+Tanner+Height+BMI+WC+TAGmgDL+HDLCmgDL+LDLCmgDL+SBP+DBP+Sedentary+Light+Moderate+Vigorous'"
      ]
     },
     "execution_count": 11,
     "metadata": {},
     "output_type": "execute_result"
    }
   ],
   "source": [
    "#Para guardar regresores\n",
    "lista1 = []\n",
    "for n, i in enumerate(df):\n",
    "    #se saca vector objetivo\n",
    "    if (i !='HOMA' and df[i].dtypes):\n",
    "        lista1.append(i)\n",
    "v_independientes = \"+\".join(lista1)\n",
    "v_independientes"
   ]
  },
  {
   "cell_type": "raw",
   "id": "513d473d",
   "metadata": {},
   "source": [
    "Modelo saturado (todos los regresores)"
   ]
  },
  {
   "cell_type": "code",
   "execution_count": 12,
   "id": "854492d3",
   "metadata": {},
   "outputs": [
    {
     "data": {
      "text/html": [
       "<table class=\"simpletable\">\n",
       "<tr>\n",
       "        <td>Model:</td>               <td>OLS</td>         <td>Adj. R-squared:</td>     <td>0.488</td> \n",
       "</tr>\n",
       "<tr>\n",
       "  <td>Dependent Variable:</td>       <td>HOMA</td>              <td>AIC:</td>         <td>680.5536</td>\n",
       "</tr>\n",
       "<tr>\n",
       "         <td>Date:</td>        <td>2023-05-02 15:20</td>        <td>BIC:</td>         <td>739.3816</td>\n",
       "</tr>\n",
       "<tr>\n",
       "   <td>No. Observations:</td>         <td>292</td>         <td>Log-Likelihood:</td>    <td>-324.28</td>\n",
       "</tr>\n",
       "<tr>\n",
       "       <td>Df Model:</td>             <td>15</td>           <td>F-statistic:</td>       <td>19.46</td> \n",
       "</tr>\n",
       "<tr>\n",
       "     <td>Df Residuals:</td>           <td>276</td>       <td>Prob (F-statistic):</td> <td>4.07e-35</td>\n",
       "</tr>\n",
       "<tr>\n",
       "      <td>R-squared:</td>            <td>0.514</td>            <td>Scale:</td>         <td>0.57095</td>\n",
       "</tr>\n",
       "</table>\n",
       "<table class=\"simpletable\">\n",
       "<tr>\n",
       "      <td></td>       <th>Coef.</th>  <th>Std.Err.</th>    <th>t</th>     <th>P>|t|</th> <th>[0.025</th>  <th>0.975]</th> \n",
       "</tr>\n",
       "<tr>\n",
       "  <th>Intercept</th> <td>-5.9193</td>  <td>0.9464</td>  <td>-6.2547</td> <td>0.0000</td> <td>-7.7823</td> <td>-4.0563</td>\n",
       "</tr>\n",
       "<tr>\n",
       "  <th>Sex</th>       <td>0.3046</td>   <td>0.0962</td>  <td>3.1675</td>  <td>0.0017</td> <td>0.1153</td>  <td>0.4940</td> \n",
       "</tr>\n",
       "<tr>\n",
       "  <th>Age</th>       <td>0.0056</td>   <td>0.0431</td>  <td>0.1301</td>  <td>0.8966</td> <td>-0.0793</td> <td>0.0906</td> \n",
       "</tr>\n",
       "<tr>\n",
       "  <th>Tanner</th>    <td>0.1346</td>   <td>0.1353</td>  <td>0.9947</td>  <td>0.3208</td> <td>-0.1318</td> <td>0.4009</td> \n",
       "</tr>\n",
       "<tr>\n",
       "  <th>Height</th>    <td>2.4506</td>   <td>0.7621</td>  <td>3.2155</td>  <td>0.0015</td> <td>0.9503</td>  <td>3.9508</td> \n",
       "</tr>\n",
       "<tr>\n",
       "  <th>BMI</th>       <td>0.1456</td>   <td>0.0229</td>  <td>6.3704</td>  <td>0.0000</td> <td>0.1006</td>  <td>0.1906</td> \n",
       "</tr>\n",
       "<tr>\n",
       "  <th>WC</th>        <td>-0.0247</td>  <td>0.0087</td>  <td>-2.8575</td> <td>0.0046</td> <td>-0.0418</td> <td>-0.0077</td>\n",
       "</tr>\n",
       "<tr>\n",
       "  <th>TAGmgDL</th>   <td>0.0072</td>   <td>0.0017</td>  <td>4.3520</td>  <td>0.0000</td> <td>0.0040</td>  <td>0.0105</td> \n",
       "</tr>\n",
       "<tr>\n",
       "  <th>HDLCmgDL</th>  <td>0.0082</td>   <td>0.0041</td>  <td>2.0288</td>  <td>0.0434</td> <td>0.0002</td>  <td>0.0162</td> \n",
       "</tr>\n",
       "<tr>\n",
       "  <th>LDLCmgDL</th>  <td>-0.0031</td>  <td>0.0018</td>  <td>-1.7718</td> <td>0.0775</td> <td>-0.0066</td> <td>0.0003</td> \n",
       "</tr>\n",
       "<tr>\n",
       "  <th>SBP</th>       <td>0.0041</td>   <td>0.0044</td>  <td>0.9369</td>  <td>0.3496</td> <td>-0.0045</td> <td>0.0127</td> \n",
       "</tr>\n",
       "<tr>\n",
       "  <th>DBP</th>       <td>0.0086</td>   <td>0.0055</td>  <td>1.5806</td>  <td>0.1151</td> <td>-0.0021</td> <td>0.0194</td> \n",
       "</tr>\n",
       "<tr>\n",
       "  <th>Sedentary</th> <td>0.0010</td>   <td>0.0006</td>  <td>1.6993</td>  <td>0.0904</td> <td>-0.0002</td> <td>0.0022</td> \n",
       "</tr>\n",
       "<tr>\n",
       "  <th>Light</th>     <td>0.0013</td>   <td>0.0011</td>  <td>1.2168</td>  <td>0.2247</td> <td>-0.0008</td> <td>0.0034</td> \n",
       "</tr>\n",
       "<tr>\n",
       "  <th>Moderate</th>  <td>0.0038</td>   <td>0.0048</td>  <td>0.8000</td>  <td>0.4244</td> <td>-0.0056</td> <td>0.0132</td> \n",
       "</tr>\n",
       "<tr>\n",
       "  <th>Vigorous</th>  <td>-0.0057</td>  <td>0.0058</td>  <td>-0.9847</td> <td>0.3256</td> <td>-0.0170</td> <td>0.0057</td> \n",
       "</tr>\n",
       "</table>\n",
       "<table class=\"simpletable\">\n",
       "<tr>\n",
       "     <td>Omnibus:</td>    <td>119.628</td>  <td>Durbin-Watson:</td>     <td>1.429</td> \n",
       "</tr>\n",
       "<tr>\n",
       "  <td>Prob(Omnibus):</td>  <td>0.000</td>  <td>Jarque-Bera (JB):</td> <td>1007.989</td>\n",
       "</tr>\n",
       "<tr>\n",
       "       <td>Skew:</td>      <td>1.430</td>      <td>Prob(JB):</td>       <td>0.000</td> \n",
       "</tr>\n",
       "<tr>\n",
       "     <td>Kurtosis:</td>   <td>11.641</td>   <td>Condition No.:</td>     <td>14249</td> \n",
       "</tr>\n",
       "</table>"
      ],
      "text/plain": [
       "<class 'statsmodels.iolib.summary2.Summary'>\n",
       "\"\"\"\n",
       "                 Results: Ordinary least squares\n",
       "=================================================================\n",
       "Model:              OLS              Adj. R-squared:     0.488   \n",
       "Dependent Variable: HOMA             AIC:                680.5536\n",
       "Date:               2023-05-02 15:20 BIC:                739.3816\n",
       "No. Observations:   292              Log-Likelihood:     -324.28 \n",
       "Df Model:           15               F-statistic:        19.46   \n",
       "Df Residuals:       276              Prob (F-statistic): 4.07e-35\n",
       "R-squared:          0.514            Scale:              0.57095 \n",
       "------------------------------------------------------------------\n",
       "               Coef.   Std.Err.     t     P>|t|    [0.025   0.975]\n",
       "------------------------------------------------------------------\n",
       "Intercept     -5.9193    0.9464  -6.2547  0.0000  -7.7823  -4.0563\n",
       "Sex            0.3046    0.0962   3.1675  0.0017   0.1153   0.4940\n",
       "Age            0.0056    0.0431   0.1301  0.8966  -0.0793   0.0906\n",
       "Tanner         0.1346    0.1353   0.9947  0.3208  -0.1318   0.4009\n",
       "Height         2.4506    0.7621   3.2155  0.0015   0.9503   3.9508\n",
       "BMI            0.1456    0.0229   6.3704  0.0000   0.1006   0.1906\n",
       "WC            -0.0247    0.0087  -2.8575  0.0046  -0.0418  -0.0077\n",
       "TAGmgDL        0.0072    0.0017   4.3520  0.0000   0.0040   0.0105\n",
       "HDLCmgDL       0.0082    0.0041   2.0288  0.0434   0.0002   0.0162\n",
       "LDLCmgDL      -0.0031    0.0018  -1.7718  0.0775  -0.0066   0.0003\n",
       "SBP            0.0041    0.0044   0.9369  0.3496  -0.0045   0.0127\n",
       "DBP            0.0086    0.0055   1.5806  0.1151  -0.0021   0.0194\n",
       "Sedentary      0.0010    0.0006   1.6993  0.0904  -0.0002   0.0022\n",
       "Light          0.0013    0.0011   1.2168  0.2247  -0.0008   0.0034\n",
       "Moderate       0.0038    0.0048   0.8000  0.4244  -0.0056   0.0132\n",
       "Vigorous      -0.0057    0.0058  -0.9847  0.3256  -0.0170   0.0057\n",
       "-----------------------------------------------------------------\n",
       "Omnibus:             119.628      Durbin-Watson:         1.429   \n",
       "Prob(Omnibus):       0.000        Jarque-Bera (JB):      1007.989\n",
       "Skew:                1.430        Prob(JB):              0.000   \n",
       "Kurtosis:            11.641       Condition No.:         14249   \n",
       "=================================================================\n",
       "* The condition number is large (1e+04). This might indicate\n",
       "strong multicollinearity or other numerical problems.\n",
       "\"\"\""
      ]
     },
     "execution_count": 12,
     "metadata": {},
     "output_type": "execute_result"
    }
   ],
   "source": [
    "modelo_saturado = smf.ols('HOMA ~ '+v_independientes, data=df)\n",
    "modelo_saturado = modelo_saturado.fit()\n",
    "modelo_saturado.summary2()"
   ]
  },
  {
   "cell_type": "raw",
   "id": "1a622926",
   "metadata": {},
   "source": [
    "El modelo con todos los regresores tiene un R2 = 0.514, es decir, los regresores explican la variabilidad del  vector objetivo en un 51% (Gelman & Hill, 2007)\n",
    "\n",
    "Dentro de los parámetros que entrega la tabla tenemos P valor que pone a prueba la significancia estadística del coeficiente. Las variables con p valor <=0.05 aportan significativamente a la predicción del valor de la variable Homa.\n",
    "\n",
    "Para mejorar el poder explicativo del modelo se seleccionaron solo las variables con un p valor menor a 0.05 para el modelo depurado."
   ]
  },
  {
   "cell_type": "code",
   "execution_count": 13,
   "id": "5e7ab460",
   "metadata": {},
   "outputs": [
    {
     "data": {
      "text/plain": [
       "['Sex', 'Height', 'BMI', 'WC', 'TAGmgDL', 'HDLCmgDL']"
      ]
     },
     "execution_count": 13,
     "metadata": {},
     "output_type": "execute_result"
    }
   ],
   "source": [
    "v_independientes2 = ['Sex', 'Height', 'BMI', 'WC' , 'TAGmgDL', 'HDLCmgDL']\n",
    "v_independientes2"
   ]
  },
  {
   "cell_type": "code",
   "execution_count": 14,
   "id": "c2ae0d87",
   "metadata": {},
   "outputs": [
    {
     "data": {
      "text/plain": [
       "'Sex+Height+BMI+WC+TAGmgDL+HDLCmgDL'"
      ]
     },
     "execution_count": 14,
     "metadata": {},
     "output_type": "execute_result"
    }
   ],
   "source": [
    "variables_independientes2 = \"+\".join(v_independientes2)\n",
    "variables_independientes2"
   ]
  },
  {
   "cell_type": "code",
   "execution_count": 15,
   "id": "a4ebf5ab",
   "metadata": {},
   "outputs": [
    {
     "data": {
      "text/html": [
       "<table class=\"simpletable\">\n",
       "<tr>\n",
       "        <td>Model:</td>               <td>OLS</td>         <td>Adj. R-squared:</td>     <td>0.478</td> \n",
       "</tr>\n",
       "<tr>\n",
       "  <td>Dependent Variable:</td>       <td>HOMA</td>              <td>AIC:</td>         <td>677.3424</td>\n",
       "</tr>\n",
       "<tr>\n",
       "         <td>Date:</td>        <td>2023-05-02 15:20</td>        <td>BIC:</td>         <td>703.0797</td>\n",
       "</tr>\n",
       "<tr>\n",
       "   <td>No. Observations:</td>         <td>292</td>         <td>Log-Likelihood:</td>    <td>-331.67</td>\n",
       "</tr>\n",
       "<tr>\n",
       "       <td>Df Model:</td>              <td>6</td>           <td>F-statistic:</td>       <td>45.41</td> \n",
       "</tr>\n",
       "<tr>\n",
       "     <td>Df Residuals:</td>           <td>285</td>       <td>Prob (F-statistic):</td> <td>7.59e-39</td>\n",
       "</tr>\n",
       "<tr>\n",
       "      <td>R-squared:</td>            <td>0.489</td>            <td>Scale:</td>         <td>0.58165</td>\n",
       "</tr>\n",
       "</table>\n",
       "<table class=\"simpletable\">\n",
       "<tr>\n",
       "      <td></td>       <th>Coef.</th>  <th>Std.Err.</th>    <th>t</th>     <th>P>|t|</th> <th>[0.025</th>  <th>0.975]</th> \n",
       "</tr>\n",
       "<tr>\n",
       "  <th>Intercept</th> <td>-4.9568</td>  <td>0.5960</td>  <td>-8.3165</td> <td>0.0000</td> <td>-6.1299</td> <td>-3.7836</td>\n",
       "</tr>\n",
       "<tr>\n",
       "  <th>Sex</th>       <td>0.3145</td>   <td>0.0914</td>  <td>3.4426</td>  <td>0.0007</td> <td>0.1347</td>  <td>0.4944</td> \n",
       "</tr>\n",
       "<tr>\n",
       "  <th>Height</th>    <td>2.7566</td>   <td>0.4164</td>  <td>6.6207</td>  <td>0.0000</td> <td>1.9371</td>  <td>3.5761</td> \n",
       "</tr>\n",
       "<tr>\n",
       "  <th>BMI</th>       <td>0.1633</td>   <td>0.0220</td>  <td>7.4203</td>  <td>0.0000</td> <td>0.1200</td>  <td>0.2066</td> \n",
       "</tr>\n",
       "<tr>\n",
       "  <th>WC</th>        <td>-0.0270</td>  <td>0.0084</td>  <td>-3.2008</td> <td>0.0015</td> <td>-0.0436</td> <td>-0.0104</td>\n",
       "</tr>\n",
       "<tr>\n",
       "  <th>TAGmgDL</th>   <td>0.0067</td>   <td>0.0016</td>  <td>4.1511</td>  <td>0.0000</td> <td>0.0035</td>  <td>0.0098</td> \n",
       "</tr>\n",
       "<tr>\n",
       "  <th>HDLCmgDL</th>  <td>0.0095</td>   <td>0.0040</td>  <td>2.3611</td>  <td>0.0189</td> <td>0.0016</td>  <td>0.0174</td> \n",
       "</tr>\n",
       "</table>\n",
       "<table class=\"simpletable\">\n",
       "<tr>\n",
       "     <td>Omnibus:</td>    <td>115.739</td>  <td>Durbin-Watson:</td>    <td>1.408</td> \n",
       "</tr>\n",
       "<tr>\n",
       "  <td>Prob(Omnibus):</td>  <td>0.000</td>  <td>Jarque-Bera (JB):</td> <td>875.342</td>\n",
       "</tr>\n",
       "<tr>\n",
       "       <td>Skew:</td>      <td>1.410</td>      <td>Prob(JB):</td>      <td>0.000</td> \n",
       "</tr>\n",
       "<tr>\n",
       "     <td>Kurtosis:</td>   <td>11.000</td>   <td>Condition No.:</td>    <td>1750</td>  \n",
       "</tr>\n",
       "</table>"
      ],
      "text/plain": [
       "<class 'statsmodels.iolib.summary2.Summary'>\n",
       "\"\"\"\n",
       "                 Results: Ordinary least squares\n",
       "=================================================================\n",
       "Model:              OLS              Adj. R-squared:     0.478   \n",
       "Dependent Variable: HOMA             AIC:                677.3424\n",
       "Date:               2023-05-02 15:20 BIC:                703.0797\n",
       "No. Observations:   292              Log-Likelihood:     -331.67 \n",
       "Df Model:           6                F-statistic:        45.41   \n",
       "Df Residuals:       285              Prob (F-statistic): 7.59e-39\n",
       "R-squared:          0.489            Scale:              0.58165 \n",
       "------------------------------------------------------------------\n",
       "               Coef.   Std.Err.     t     P>|t|    [0.025   0.975]\n",
       "------------------------------------------------------------------\n",
       "Intercept     -4.9568    0.5960  -8.3165  0.0000  -6.1299  -3.7836\n",
       "Sex            0.3145    0.0914   3.4426  0.0007   0.1347   0.4944\n",
       "Height         2.7566    0.4164   6.6207  0.0000   1.9371   3.5761\n",
       "BMI            0.1633    0.0220   7.4203  0.0000   0.1200   0.2066\n",
       "WC            -0.0270    0.0084  -3.2008  0.0015  -0.0436  -0.0104\n",
       "TAGmgDL        0.0067    0.0016   4.1511  0.0000   0.0035   0.0098\n",
       "HDLCmgDL       0.0095    0.0040   2.3611  0.0189   0.0016   0.0174\n",
       "-----------------------------------------------------------------\n",
       "Omnibus:              115.739      Durbin-Watson:         1.408  \n",
       "Prob(Omnibus):        0.000        Jarque-Bera (JB):      875.342\n",
       "Skew:                 1.410        Prob(JB):              0.000  \n",
       "Kurtosis:             11.000       Condition No.:         1750   \n",
       "=================================================================\n",
       "* The condition number is large (2e+03). This might indicate\n",
       "strong multicollinearity or other numerical problems.\n",
       "\"\"\""
      ]
     },
     "execution_count": 15,
     "metadata": {},
     "output_type": "execute_result"
    }
   ],
   "source": [
    "modelo_depurado = smf.ols('HOMA ~ '+variables_independientes2, data=df)\n",
    "modelo_depurado = modelo_depurado.fit()\n",
    "modelo_depurado.summary2()"
   ]
  },
  {
   "cell_type": "raw",
   "id": "ff43718d",
   "metadata": {},
   "source": [
    "El R2 disminuyó a 0.489, lo cual, podría significar que quizás se descartó alguna variable que aportaba al modelo. \n",
    "También puede ser que no se encuentre información suficiente para determinar el comportamiento de la variable."
   ]
  },
  {
   "cell_type": "markdown",
   "id": "cb8c199d",
   "metadata": {},
   "source": [
    "#### Modelación predictiva (Regresión lineal)"
   ]
  },
  {
   "cell_type": "raw",
   "id": "66de5811",
   "metadata": {},
   "source": [
    "Como el objetivo es determinar un modelo predictivo para la variable HOMA (mediante el entrenamiento de un modelo\n",
    "de regresión lineal) se procedió a separar la base en entrenamiento y test siguiendo las técnicas de Machine Learning."
   ]
  },
  {
   "cell_type": "code",
   "execution_count": 16,
   "id": "b3398b3b",
   "metadata": {},
   "outputs": [],
   "source": [
    "# se separan atributos regresores y vector objetivo en X e y respectivamente\n",
    "y= df['HOMA']\n",
    "X= df.drop(columns='HOMA')\n"
   ]
  },
  {
   "cell_type": "raw",
   "id": "97d81f52",
   "metadata": {},
   "source": [
    "Luego se segmentó nuestra base de datos en entrenamiento y pruebas siguiendo la nomenclatura clásica, guardando el 33% de la muestra, y determinando una semilla pseudoaleatoria con random_state para asegurar replicabilidad de los resultados."
   ]
  },
  {
   "cell_type": "code",
   "execution_count": 17,
   "id": "126e3d13",
   "metadata": {},
   "outputs": [],
   "source": [
    "\n",
    "X_train, X_test, y_train, y_test = train_test_split(X, y, test_size=0.33, random_state=1121)"
   ]
  },
  {
   "cell_type": "code",
   "execution_count": 18,
   "id": "c8323a73",
   "metadata": {},
   "outputs": [
    {
     "data": {
      "text/html": [
       "<div>\n",
       "<style scoped>\n",
       "    .dataframe tbody tr th:only-of-type {\n",
       "        vertical-align: middle;\n",
       "    }\n",
       "\n",
       "    .dataframe tbody tr th {\n",
       "        vertical-align: top;\n",
       "    }\n",
       "\n",
       "    .dataframe thead th {\n",
       "        text-align: right;\n",
       "    }\n",
       "</style>\n",
       "<table border=\"1\" class=\"dataframe\">\n",
       "  <thead>\n",
       "    <tr style=\"text-align: right;\">\n",
       "      <th></th>\n",
       "      <th>Sex</th>\n",
       "      <th>Age</th>\n",
       "      <th>Tanner</th>\n",
       "      <th>Height</th>\n",
       "      <th>BMI</th>\n",
       "      <th>WC</th>\n",
       "      <th>TAGmgDL</th>\n",
       "      <th>HDLCmgDL</th>\n",
       "      <th>LDLCmgDL</th>\n",
       "      <th>SBP</th>\n",
       "      <th>DBP</th>\n",
       "      <th>Sedentary</th>\n",
       "      <th>Light</th>\n",
       "      <th>Moderate</th>\n",
       "      <th>Vigorous</th>\n",
       "    </tr>\n",
       "  </thead>\n",
       "  <tbody>\n",
       "    <tr>\n",
       "      <th>232</th>\n",
       "      <td>0</td>\n",
       "      <td>12.5</td>\n",
       "      <td>0</td>\n",
       "      <td>1.39</td>\n",
       "      <td>27.40</td>\n",
       "      <td>92.0</td>\n",
       "      <td>63</td>\n",
       "      <td>69</td>\n",
       "      <td>76</td>\n",
       "      <td>110</td>\n",
       "      <td>63</td>\n",
       "      <td>672.333333</td>\n",
       "      <td>207.035714</td>\n",
       "      <td>22.023810</td>\n",
       "      <td>7.964286</td>\n",
       "    </tr>\n",
       "    <tr>\n",
       "      <th>153</th>\n",
       "      <td>1</td>\n",
       "      <td>8.2</td>\n",
       "      <td>0</td>\n",
       "      <td>1.27</td>\n",
       "      <td>23.41</td>\n",
       "      <td>78.5</td>\n",
       "      <td>45</td>\n",
       "      <td>53</td>\n",
       "      <td>94</td>\n",
       "      <td>119</td>\n",
       "      <td>65</td>\n",
       "      <td>454.130952</td>\n",
       "      <td>219.595238</td>\n",
       "      <td>42.690476</td>\n",
       "      <td>9.440476</td>\n",
       "    </tr>\n",
       "    <tr>\n",
       "      <th>90</th>\n",
       "      <td>0</td>\n",
       "      <td>8.0</td>\n",
       "      <td>0</td>\n",
       "      <td>1.20</td>\n",
       "      <td>18.83</td>\n",
       "      <td>64.0</td>\n",
       "      <td>44</td>\n",
       "      <td>64</td>\n",
       "      <td>108</td>\n",
       "      <td>110</td>\n",
       "      <td>56</td>\n",
       "      <td>315.452381</td>\n",
       "      <td>402.261905</td>\n",
       "      <td>47.642857</td>\n",
       "      <td>12.869048</td>\n",
       "    </tr>\n",
       "    <tr>\n",
       "      <th>15</th>\n",
       "      <td>1</td>\n",
       "      <td>11.1</td>\n",
       "      <td>0</td>\n",
       "      <td>1.39</td>\n",
       "      <td>14.77</td>\n",
       "      <td>54.1</td>\n",
       "      <td>52</td>\n",
       "      <td>68</td>\n",
       "      <td>115</td>\n",
       "      <td>106</td>\n",
       "      <td>70</td>\n",
       "      <td>595.848214</td>\n",
       "      <td>163.089286</td>\n",
       "      <td>20.258929</td>\n",
       "      <td>10.116071</td>\n",
       "    </tr>\n",
       "    <tr>\n",
       "      <th>46</th>\n",
       "      <td>1</td>\n",
       "      <td>7.4</td>\n",
       "      <td>0</td>\n",
       "      <td>1.24</td>\n",
       "      <td>16.43</td>\n",
       "      <td>55.1</td>\n",
       "      <td>53</td>\n",
       "      <td>51</td>\n",
       "      <td>74</td>\n",
       "      <td>117</td>\n",
       "      <td>64</td>\n",
       "      <td>428.000000</td>\n",
       "      <td>327.214286</td>\n",
       "      <td>53.321429</td>\n",
       "      <td>17.904762</td>\n",
       "    </tr>\n",
       "  </tbody>\n",
       "</table>\n",
       "</div>"
      ],
      "text/plain": [
       "     Sex   Age  Tanner  Height    BMI    WC  TAGmgDL  HDLCmgDL  LDLCmgDL  SBP  \\\n",
       "232    0  12.5       0    1.39  27.40  92.0       63        69        76  110   \n",
       "153    1   8.2       0    1.27  23.41  78.5       45        53        94  119   \n",
       "90     0   8.0       0    1.20  18.83  64.0       44        64       108  110   \n",
       "15     1  11.1       0    1.39  14.77  54.1       52        68       115  106   \n",
       "46     1   7.4       0    1.24  16.43  55.1       53        51        74  117   \n",
       "\n",
       "     DBP   Sedentary       Light   Moderate   Vigorous  \n",
       "232   63  672.333333  207.035714  22.023810   7.964286  \n",
       "153   65  454.130952  219.595238  42.690476   9.440476  \n",
       "90    56  315.452381  402.261905  47.642857  12.869048  \n",
       "15    70  595.848214  163.089286  20.258929  10.116071  \n",
       "46    64  428.000000  327.214286  53.321429  17.904762  "
      ]
     },
     "execution_count": 18,
     "metadata": {},
     "output_type": "execute_result"
    }
   ],
   "source": [
    "X_train.head()"
   ]
  },
  {
   "cell_type": "raw",
   "id": "e26774e3",
   "metadata": {},
   "source": [
    "Se generó un modelo con intercepto."
   ]
  },
  {
   "cell_type": "code",
   "execution_count": 19,
   "id": "3e694903",
   "metadata": {},
   "outputs": [
    {
     "data": {
      "text/plain": [
       "LinearRegression()"
      ]
     },
     "execution_count": 19,
     "metadata": {},
     "output_type": "execute_result"
    }
   ],
   "source": [
    "#Con intercepto\n",
    "#Instanciamos el modelo\n",
    "lm1 = linear_model.LinearRegression(fit_intercept=True)\n",
    "#Entrenamos. Ajustamos el modelo a los datos de entrenamiento\n",
    "lm1.fit(X_train, y_train)"
   ]
  },
  {
   "cell_type": "raw",
   "id": "377d6257",
   "metadata": {},
   "source": [
    "El primer paso para medir el desempeño predictivo del modelo es generar nuevas predicciones en nuestra muestra de prueba. Para ello nos valemos de la función .predict() del modelo"
   ]
  },
  {
   "cell_type": "code",
   "execution_count": 20,
   "id": "c78596e7",
   "metadata": {},
   "outputs": [],
   "source": [
    "#Prediccion de la matriz de prueba\n",
    "y_pred0 = lm1.predict(X_test)\n",
    "#Las predicciones de X_test realizadas con nuestra función las guardamos en un nuevo objeto llamado y_pred0"
   ]
  },
  {
   "cell_type": "raw",
   "id": "14047896",
   "metadata": {},
   "source": [
    "Parte importante de nuestro flujo de trabajo desde Machine Learning busca analizar el desempeño del modelo en la predicción con nuevas observaciones. Modelos donde nuestro vector objetivo es continuo se utiliza el error cuadrático medio, que cuantificaba qué tan separados están los datos de nuestra recta de ajuste predictivo (Gelman & Hill, 2007). Se utilizó esta métrica junto a R2 para determinar el desempeño de los modelos de regresión."
   ]
  },
  {
   "cell_type": "code",
   "execution_count": 21,
   "id": "ba3ab7b6",
   "metadata": {},
   "outputs": [
    {
     "name": "stdout",
     "output_type": "stream",
     "text": [
      "Error cuadrático medio:  0.498 R2:  0.399\n"
     ]
    }
   ],
   "source": [
    "#Metricas del modelo\n",
    "report_scores(y_pred0, y_test)"
   ]
  },
  {
   "cell_type": "raw",
   "id": "0c02affe",
   "metadata": {},
   "source": [
    "Nuestro modelo puede no ser el mejor, esto podría deberse a que incluyéramos regresores que no aportan poder predictivo. \n",
    "\n",
    "Para mejorar el modelo y sus métricas se seleccionaron los atributos con mayor correlacionadas con el vector objetivo. "
   ]
  },
  {
   "cell_type": "code",
   "execution_count": 22,
   "id": "3283d055",
   "metadata": {},
   "outputs": [
    {
     "data": {
      "text/html": [
       "<div>\n",
       "<style scoped>\n",
       "    .dataframe tbody tr th:only-of-type {\n",
       "        vertical-align: middle;\n",
       "    }\n",
       "\n",
       "    .dataframe tbody tr th {\n",
       "        vertical-align: top;\n",
       "    }\n",
       "\n",
       "    .dataframe thead th {\n",
       "        text-align: right;\n",
       "    }\n",
       "</style>\n",
       "<table border=\"1\" class=\"dataframe\">\n",
       "  <thead>\n",
       "    <tr style=\"text-align: right;\">\n",
       "      <th></th>\n",
       "      <th>corr</th>\n",
       "      <th>abs_corr</th>\n",
       "    </tr>\n",
       "    <tr>\n",
       "      <th>attribute</th>\n",
       "      <th></th>\n",
       "      <th></th>\n",
       "    </tr>\n",
       "  </thead>\n",
       "  <tbody>\n",
       "    <tr>\n",
       "      <th>BMI</th>\n",
       "      <td>0.589953</td>\n",
       "      <td>0.589953</td>\n",
       "    </tr>\n",
       "    <tr>\n",
       "      <th>WC</th>\n",
       "      <td>0.542402</td>\n",
       "      <td>0.542402</td>\n",
       "    </tr>\n",
       "    <tr>\n",
       "      <th>Height</th>\n",
       "      <td>0.481617</td>\n",
       "      <td>0.481617</td>\n",
       "    </tr>\n",
       "    <tr>\n",
       "      <th>SBP</th>\n",
       "      <td>0.406737</td>\n",
       "      <td>0.406737</td>\n",
       "    </tr>\n",
       "    <tr>\n",
       "      <th>Age</th>\n",
       "      <td>0.395540</td>\n",
       "      <td>0.395540</td>\n",
       "    </tr>\n",
       "    <tr>\n",
       "      <th>Tanner</th>\n",
       "      <td>0.380832</td>\n",
       "      <td>0.380832</td>\n",
       "    </tr>\n",
       "    <tr>\n",
       "      <th>TAGmgDL</th>\n",
       "      <td>0.307163</td>\n",
       "      <td>0.307163</td>\n",
       "    </tr>\n",
       "    <tr>\n",
       "      <th>HDLCmgDL</th>\n",
       "      <td>-0.300899</td>\n",
       "      <td>0.300899</td>\n",
       "    </tr>\n",
       "    <tr>\n",
       "      <th>DBP</th>\n",
       "      <td>0.275666</td>\n",
       "      <td>0.275666</td>\n",
       "    </tr>\n",
       "    <tr>\n",
       "      <th>Light</th>\n",
       "      <td>-0.179270</td>\n",
       "      <td>0.179270</td>\n",
       "    </tr>\n",
       "    <tr>\n",
       "      <th>Sedentary</th>\n",
       "      <td>0.178561</td>\n",
       "      <td>0.178561</td>\n",
       "    </tr>\n",
       "    <tr>\n",
       "      <th>Sex</th>\n",
       "      <td>0.124556</td>\n",
       "      <td>0.124556</td>\n",
       "    </tr>\n",
       "    <tr>\n",
       "      <th>Moderate</th>\n",
       "      <td>-0.059954</td>\n",
       "      <td>0.059954</td>\n",
       "    </tr>\n",
       "    <tr>\n",
       "      <th>Vigorous</th>\n",
       "      <td>-0.021651</td>\n",
       "      <td>0.021651</td>\n",
       "    </tr>\n",
       "    <tr>\n",
       "      <th>LDLCmgDL</th>\n",
       "      <td>-0.002767</td>\n",
       "      <td>0.002767</td>\n",
       "    </tr>\n",
       "  </tbody>\n",
       "</table>\n",
       "</div>"
      ],
      "text/plain": [
       "               corr  abs_corr\n",
       "attribute                    \n",
       "BMI        0.589953  0.589953\n",
       "WC         0.542402  0.542402\n",
       "Height     0.481617  0.481617\n",
       "SBP        0.406737  0.406737\n",
       "Age        0.395540  0.395540\n",
       "Tanner     0.380832  0.380832\n",
       "TAGmgDL    0.307163  0.307163\n",
       "HDLCmgDL  -0.300899  0.300899\n",
       "DBP        0.275666  0.275666\n",
       "Light     -0.179270  0.179270\n",
       "Sedentary  0.178561  0.178561\n",
       "Sex        0.124556  0.124556\n",
       "Moderate  -0.059954  0.059954\n",
       "Vigorous  -0.021651  0.021651\n",
       "LDLCmgDL  -0.002767  0.002767"
      ]
     },
     "execution_count": 22,
     "metadata": {},
     "output_type": "execute_result"
    }
   ],
   "source": [
    "fetch_features(df, 'HOMA')"
   ]
  },
  {
   "cell_type": "raw",
   "id": "5662165e",
   "metadata": {},
   "source": [
    "Se seleccionaron las variables con correlación mayor a 0.270, para intentar incluir todas las variables que mostraron importancia en el modelo descriptivo."
   ]
  },
  {
   "cell_type": "code",
   "execution_count": 23,
   "id": "93a6a211",
   "metadata": {},
   "outputs": [
    {
     "data": {
      "text/plain": [
       "['BMI', 'WC', 'Height', 'SBP', 'Age', 'Tanner', 'TAGmgDL', 'HDLCmgDL', 'DBP']"
      ]
     },
     "execution_count": 23,
     "metadata": {},
     "output_type": "execute_result"
    }
   ],
   "source": [
    "var=['BMI', 'WC', 'Height', 'SBP', 'Age', 'Tanner' , 'TAGmgDL','HDLCmgDL','DBP']\n",
    "var"
   ]
  },
  {
   "cell_type": "code",
   "execution_count": 24,
   "id": "85655c76",
   "metadata": {},
   "outputs": [
    {
     "data": {
      "text/html": [
       "<div>\n",
       "<style scoped>\n",
       "    .dataframe tbody tr th:only-of-type {\n",
       "        vertical-align: middle;\n",
       "    }\n",
       "\n",
       "    .dataframe tbody tr th {\n",
       "        vertical-align: top;\n",
       "    }\n",
       "\n",
       "    .dataframe thead th {\n",
       "        text-align: right;\n",
       "    }\n",
       "</style>\n",
       "<table border=\"1\" class=\"dataframe\">\n",
       "  <thead>\n",
       "    <tr style=\"text-align: right;\">\n",
       "      <th></th>\n",
       "      <th>BMI</th>\n",
       "      <th>WC</th>\n",
       "      <th>Height</th>\n",
       "      <th>SBP</th>\n",
       "      <th>Age</th>\n",
       "      <th>Tanner</th>\n",
       "      <th>TAGmgDL</th>\n",
       "      <th>HDLCmgDL</th>\n",
       "      <th>DBP</th>\n",
       "    </tr>\n",
       "  </thead>\n",
       "  <tbody>\n",
       "    <tr>\n",
       "      <th>0</th>\n",
       "      <td>11.34</td>\n",
       "      <td>60.0</td>\n",
       "      <td>1.55</td>\n",
       "      <td>97</td>\n",
       "      <td>9.5</td>\n",
       "      <td>0</td>\n",
       "      <td>55</td>\n",
       "      <td>51</td>\n",
       "      <td>60</td>\n",
       "    </tr>\n",
       "    <tr>\n",
       "      <th>1</th>\n",
       "      <td>12.40</td>\n",
       "      <td>46.3</td>\n",
       "      <td>1.15</td>\n",
       "      <td>90</td>\n",
       "      <td>8.0</td>\n",
       "      <td>0</td>\n",
       "      <td>51</td>\n",
       "      <td>70</td>\n",
       "      <td>55</td>\n",
       "    </tr>\n",
       "    <tr>\n",
       "      <th>2</th>\n",
       "      <td>12.99</td>\n",
       "      <td>67.5</td>\n",
       "      <td>1.42</td>\n",
       "      <td>96</td>\n",
       "      <td>10.5</td>\n",
       "      <td>0</td>\n",
       "      <td>65</td>\n",
       "      <td>60</td>\n",
       "      <td>54</td>\n",
       "    </tr>\n",
       "    <tr>\n",
       "      <th>3</th>\n",
       "      <td>13.43</td>\n",
       "      <td>53.1</td>\n",
       "      <td>1.27</td>\n",
       "      <td>108</td>\n",
       "      <td>8.1</td>\n",
       "      <td>0</td>\n",
       "      <td>41</td>\n",
       "      <td>78</td>\n",
       "      <td>46</td>\n",
       "    </tr>\n",
       "    <tr>\n",
       "      <th>4</th>\n",
       "      <td>13.72</td>\n",
       "      <td>51.9</td>\n",
       "      <td>1.32</td>\n",
       "      <td>107</td>\n",
       "      <td>10.4</td>\n",
       "      <td>0</td>\n",
       "      <td>39</td>\n",
       "      <td>100</td>\n",
       "      <td>69</td>\n",
       "    </tr>\n",
       "    <tr>\n",
       "      <th>...</th>\n",
       "      <td>...</td>\n",
       "      <td>...</td>\n",
       "      <td>...</td>\n",
       "      <td>...</td>\n",
       "      <td>...</td>\n",
       "      <td>...</td>\n",
       "      <td>...</td>\n",
       "      <td>...</td>\n",
       "      <td>...</td>\n",
       "    </tr>\n",
       "    <tr>\n",
       "      <th>287</th>\n",
       "      <td>32.64</td>\n",
       "      <td>104.5</td>\n",
       "      <td>1.56</td>\n",
       "      <td>104</td>\n",
       "      <td>13.0</td>\n",
       "      <td>1</td>\n",
       "      <td>157</td>\n",
       "      <td>21</td>\n",
       "      <td>62</td>\n",
       "    </tr>\n",
       "    <tr>\n",
       "      <th>288</th>\n",
       "      <td>32.70</td>\n",
       "      <td>110.0</td>\n",
       "      <td>1.61</td>\n",
       "      <td>112</td>\n",
       "      <td>12.5</td>\n",
       "      <td>0</td>\n",
       "      <td>79</td>\n",
       "      <td>44</td>\n",
       "      <td>79</td>\n",
       "    </tr>\n",
       "    <tr>\n",
       "      <th>289</th>\n",
       "      <td>34.05</td>\n",
       "      <td>104.0</td>\n",
       "      <td>1.69</td>\n",
       "      <td>127</td>\n",
       "      <td>14.1</td>\n",
       "      <td>1</td>\n",
       "      <td>128</td>\n",
       "      <td>39</td>\n",
       "      <td>68</td>\n",
       "    </tr>\n",
       "    <tr>\n",
       "      <th>290</th>\n",
       "      <td>34.48</td>\n",
       "      <td>111.0</td>\n",
       "      <td>1.77</td>\n",
       "      <td>149</td>\n",
       "      <td>15.3</td>\n",
       "      <td>1</td>\n",
       "      <td>88</td>\n",
       "      <td>42</td>\n",
       "      <td>70</td>\n",
       "    </tr>\n",
       "    <tr>\n",
       "      <th>291</th>\n",
       "      <td>35.41</td>\n",
       "      <td>117.0</td>\n",
       "      <td>1.67</td>\n",
       "      <td>120</td>\n",
       "      <td>13.8</td>\n",
       "      <td>1</td>\n",
       "      <td>163</td>\n",
       "      <td>27</td>\n",
       "      <td>73</td>\n",
       "    </tr>\n",
       "  </tbody>\n",
       "</table>\n",
       "<p>292 rows × 9 columns</p>\n",
       "</div>"
      ],
      "text/plain": [
       "       BMI     WC  Height  SBP   Age  Tanner  TAGmgDL  HDLCmgDL  DBP\n",
       "0    11.34   60.0    1.55   97   9.5       0       55        51   60\n",
       "1    12.40   46.3    1.15   90   8.0       0       51        70   55\n",
       "2    12.99   67.5    1.42   96  10.5       0       65        60   54\n",
       "3    13.43   53.1    1.27  108   8.1       0       41        78   46\n",
       "4    13.72   51.9    1.32  107  10.4       0       39       100   69\n",
       "..     ...    ...     ...  ...   ...     ...      ...       ...  ...\n",
       "287  32.64  104.5    1.56  104  13.0       1      157        21   62\n",
       "288  32.70  110.0    1.61  112  12.5       0       79        44   79\n",
       "289  34.05  104.0    1.69  127  14.1       1      128        39   68\n",
       "290  34.48  111.0    1.77  149  15.3       1       88        42   70\n",
       "291  35.41  117.0    1.67  120  13.8       1      163        27   73\n",
       "\n",
       "[292 rows x 9 columns]"
      ]
     },
     "execution_count": 24,
     "metadata": {},
     "output_type": "execute_result"
    }
   ],
   "source": [
    "varcor=df.loc[:,var]\n",
    "varcor"
   ]
  },
  {
   "cell_type": "code",
   "execution_count": 25,
   "id": "c423e86c",
   "metadata": {},
   "outputs": [],
   "source": [
    "# Se vuelve separar la data para el modelo con las variables con mayor correlación\n",
    "X_train2, X_test2, y_train2, y_test2 = train_test_split(varcor, y, test_size=0.33, random_state=1121)"
   ]
  },
  {
   "cell_type": "code",
   "execution_count": 26,
   "id": "328a818a",
   "metadata": {},
   "outputs": [],
   "source": [
    "#Con intercepto\n",
    "#Instanciamos el modelo\n",
    "lm2 = linear_model.LinearRegression(fit_intercept=True)\n",
    "#Entrenamos\n",
    "lm2.fit(X_train2, y_train2)\n",
    "#Predecimos en  test\n",
    "#Prediccion de la matriz de prueba\n",
    "y_pred1 = lm2.predict(X_test2)"
   ]
  },
  {
   "cell_type": "code",
   "execution_count": 27,
   "id": "86cd4840",
   "metadata": {},
   "outputs": [
    {
     "name": "stdout",
     "output_type": "stream",
     "text": [
      "Error cuadrático medio:  0.493 R2:  0.406\n"
     ]
    }
   ],
   "source": [
    "#Las metricas para este modelo son.\n",
    "\n",
    "report_scores(y_pred1, y_test2)"
   ]
  },
  {
   "cell_type": "code",
   "execution_count": 28,
   "id": "d5dde152",
   "metadata": {},
   "outputs": [
    {
     "name": "stdout",
     "output_type": "stream",
     "text": [
      "Test MSE: 0.49262\n",
      "Test MAE: 0.50715\n",
      "Test R2: 0.40581\n"
     ]
    }
   ],
   "source": [
    "Metricas_lm2=metricas(lm2, X_test2, y_test2)"
   ]
  },
  {
   "cell_type": "raw",
   "id": "d7b47b7b",
   "metadata": {},
   "source": [
    "Las metricas mejoraron"
   ]
  },
  {
   "cell_type": "markdown",
   "id": "b8135693",
   "metadata": {},
   "source": [
    "#### Support Vector Regressor"
   ]
  },
  {
   "cell_type": "raw",
   "id": "62cc147e",
   "metadata": {},
   "source": [
    "En general, las máquinas de vectores de soporte se consideran un enfoque de clasificación, pero se pueden emplear en ambos tipos de problemas de clasificación y regresión. Puede manejar fácilmente múltiples variables continuas y categóricas (Navlani, 2019)"
   ]
  },
  {
   "cell_type": "code",
   "execution_count": 29,
   "id": "38627774",
   "metadata": {},
   "outputs": [
    {
     "data": {
      "text/plain": [
       "SVR(kernel='linear')"
      ]
     },
     "execution_count": 29,
     "metadata": {},
     "output_type": "execute_result"
    }
   ],
   "source": [
    "svr = SVR(kernel=\"linear\", C=1.0)\n",
    "svr.fit(X_train, y_train)"
   ]
  },
  {
   "cell_type": "code",
   "execution_count": 30,
   "id": "b49ed7e6",
   "metadata": {},
   "outputs": [],
   "source": [
    "y_pred2 = svr.predict(X_test)"
   ]
  },
  {
   "cell_type": "code",
   "execution_count": 31,
   "id": "e1a0ef11",
   "metadata": {
    "scrolled": true
   },
   "outputs": [
    {
     "name": "stdout",
     "output_type": "stream",
     "text": [
      "Error cuadrático medio:  0.482 R2:  0.418\n"
     ]
    }
   ],
   "source": [
    "report_scores(y_pred2, y_test)"
   ]
  },
  {
   "cell_type": "code",
   "execution_count": 32,
   "id": "52267ec8",
   "metadata": {},
   "outputs": [
    {
     "name": "stdout",
     "output_type": "stream",
     "text": [
      "Test MSE: 0.4821\n",
      "Test MAE: 0.40514\n",
      "Test R2: 0.4185\n"
     ]
    }
   ],
   "source": [
    "Metricas_svr=metricas(svr, X_test, y_test)"
   ]
  },
  {
   "cell_type": "markdown",
   "id": "ec955079",
   "metadata": {},
   "source": [
    "#### Árboles de decisión Regresión"
   ]
  },
  {
   "cell_type": "raw",
   "id": "d6af81a0",
   "metadata": {},
   "source": [
    "El árbol de decisión es un tipo de algoritmo de aprendizaje supervisado que se puede utilizar tanto en problemas de regresión como de clasificación. Para construir un árbol de regresión, primero se usa la división binaria recursiva para hacer crecer un árbol grande en los datos de entrenamiento, deteniéndose solo cuando cada nodo terminal tiene menos de un número mínimo de observaciones (Le, 2018)."
   ]
  },
  {
   "cell_type": "code",
   "execution_count": 33,
   "id": "9cca3b4e",
   "metadata": {},
   "outputs": [],
   "source": [
    "dec_tree = DecisionTreeRegressor().fit(X_train, y_train)"
   ]
  },
  {
   "cell_type": "code",
   "execution_count": 34,
   "id": "e9f5df4e",
   "metadata": {},
   "outputs": [],
   "source": [
    "y_pred3=dec_tree.predict(X_test)"
   ]
  },
  {
   "cell_type": "code",
   "execution_count": 35,
   "id": "c1b41ac5",
   "metadata": {},
   "outputs": [
    {
     "name": "stdout",
     "output_type": "stream",
     "text": [
      "Error cuadrático medio:  0.8 R2:  0.035\n"
     ]
    }
   ],
   "source": [
    "report_scores(y_pred3, y_test)"
   ]
  },
  {
   "cell_type": "code",
   "execution_count": 36,
   "id": "e81227f1",
   "metadata": {},
   "outputs": [
    {
     "name": "stdout",
     "output_type": "stream",
     "text": [
      "Test MSE: 0.8001\n",
      "Test MAE: 0.57\n",
      "Test R2: 0.03493\n"
     ]
    }
   ],
   "source": [
    "Metricas_dec_tree=metricas(dec_tree, X_test, y_test)"
   ]
  },
  {
   "cell_type": "raw",
   "id": "1d06b677",
   "metadata": {},
   "source": [
    "Las métricas no son muy buenas en este caso. Una mejor forma de utilizar arboles de decisión, es mediante la agregación de muchos árboles de decisión, como por ejemplo el algoritmo de ensamble Random Forest Regressor (Le, 2018)."
   ]
  },
  {
   "cell_type": "markdown",
   "id": "85978289",
   "metadata": {},
   "source": [
    "#### Random Forest Regressor"
   ]
  },
  {
   "cell_type": "raw",
   "id": "f1b8d0cc",
   "metadata": {},
   "source": [
    "Esta técnica genera un conjunto finito de submuestras con reemplazo mediante Bootstrap y durante la construcción de árboles, Random Forests selecciona un subconjunto de atributos de manera aleatoria y prosigue de igual manera con el entrenamiento y selección de particiones. Esto permite dar aleatoriedad en el proceso de crecimiento de los árboles y evitando correlación entre clasificadores (por ejemplo Bagging) (Breiman,2001)."
   ]
  },
  {
   "cell_type": "code",
   "execution_count": 37,
   "id": "ada098fa",
   "metadata": {},
   "outputs": [
    {
     "data": {
      "text/plain": [
       "RandomForestRegressor()"
      ]
     },
     "execution_count": 37,
     "metadata": {},
     "output_type": "execute_result"
    }
   ],
   "source": [
    "rforest = RandomForestRegressor()\n",
    "rforest.fit(X_train, y_train)"
   ]
  },
  {
   "cell_type": "code",
   "execution_count": 38,
   "id": "30cbab04",
   "metadata": {},
   "outputs": [],
   "source": [
    "y_pred4 = rforest.predict(X_test)"
   ]
  },
  {
   "cell_type": "code",
   "execution_count": 39,
   "id": "1fd06057",
   "metadata": {},
   "outputs": [
    {
     "name": "stdout",
     "output_type": "stream",
     "text": [
      "Error cuadrático medio:  0.444 R2:  0.465\n"
     ]
    }
   ],
   "source": [
    "report_scores(y_pred4, y_test)"
   ]
  },
  {
   "cell_type": "code",
   "execution_count": 40,
   "id": "824621c2",
   "metadata": {},
   "outputs": [
    {
     "name": "stdout",
     "output_type": "stream",
     "text": [
      "Test MSE: 0.4439\n",
      "Test MAE: 0.4371\n",
      "Test R2: 0.46457\n"
     ]
    }
   ],
   "source": [
    "Metricas_rforest=metricas(rforest, X_test, y_test)"
   ]
  },
  {
   "cell_type": "markdown",
   "id": "1efc2b8e",
   "metadata": {},
   "source": [
    "##### Comparación de modelos obtenidos"
   ]
  },
  {
   "cell_type": "code",
   "execution_count": 41,
   "id": "451a527a",
   "metadata": {},
   "outputs": [
    {
     "data": {
      "text/html": [
       "<div>\n",
       "<style scoped>\n",
       "    .dataframe tbody tr th:only-of-type {\n",
       "        vertical-align: middle;\n",
       "    }\n",
       "\n",
       "    .dataframe tbody tr th {\n",
       "        vertical-align: top;\n",
       "    }\n",
       "\n",
       "    .dataframe thead th {\n",
       "        text-align: right;\n",
       "    }\n",
       "</style>\n",
       "<table border=\"1\" class=\"dataframe\">\n",
       "  <thead>\n",
       "    <tr style=\"text-align: right;\">\n",
       "      <th></th>\n",
       "      <th>Modelo</th>\n",
       "      <th>Test_MSE</th>\n",
       "      <th>Test_MAE</th>\n",
       "      <th>Test_R2</th>\n",
       "    </tr>\n",
       "  </thead>\n",
       "  <tbody>\n",
       "    <tr>\n",
       "      <th>0</th>\n",
       "      <td>Linear Regression</td>\n",
       "      <td>0.49262</td>\n",
       "      <td>0.50715</td>\n",
       "      <td>0.40581</td>\n",
       "    </tr>\n",
       "    <tr>\n",
       "      <th>1</th>\n",
       "      <td>Support Vector Regressor</td>\n",
       "      <td>0.48210</td>\n",
       "      <td>0.40514</td>\n",
       "      <td>0.41850</td>\n",
       "    </tr>\n",
       "    <tr>\n",
       "      <th>2</th>\n",
       "      <td>Árboles de decisión Regresión</td>\n",
       "      <td>0.80010</td>\n",
       "      <td>0.57000</td>\n",
       "      <td>0.03493</td>\n",
       "    </tr>\n",
       "    <tr>\n",
       "      <th>3</th>\n",
       "      <td>Random Forest</td>\n",
       "      <td>0.44390</td>\n",
       "      <td>0.43710</td>\n",
       "      <td>0.46457</td>\n",
       "    </tr>\n",
       "  </tbody>\n",
       "</table>\n",
       "</div>"
      ],
      "text/plain": [
       "                          Modelo  Test_MSE  Test_MAE  Test_R2\n",
       "0              Linear Regression   0.49262   0.50715  0.40581\n",
       "1       Support Vector Regressor   0.48210   0.40514  0.41850\n",
       "2  Árboles de decisión Regresión   0.80010   0.57000  0.03493\n",
       "3                  Random Forest   0.44390   0.43710  0.46457"
      ]
     },
     "execution_count": 41,
     "metadata": {},
     "output_type": "execute_result"
    }
   ],
   "source": [
    "df_metricas=pd.concat([Metricas_lm2,\n",
    "        Metricas_svr,\n",
    "        Metricas_dec_tree,\n",
    "        Metricas_rforest] ,  axis = 0 ).reset_index()\n",
    "df_metricas\n",
    "ids = pd.DataFrame({'Modelo' : [\n",
    "        \"Linear Regression\",\n",
    "        \"Support Vector Regressor\",\n",
    "        \"Árboles de decisión Regresión\",\n",
    "        \"Random Forest\"]}, columns = ['Modelo'])\n",
    "Metricas_modelos = ids.join(df_metricas).drop(columns='index')\n",
    "Metricas_modelos "
   ]
  },
  {
   "cell_type": "raw",
   "id": "c542c02d",
   "metadata": {},
   "source": [
    "El mejor modelo obtenido corresponde a Random Forest, el cual explica de mejor manera la variabilidad del vector objetivo. También tiene menores valores de error cuadrático medio y error absoluto medio. Cabe destacar que SVR tiene valores cercanos Random Forest y en contraste Árbol de decisión arrojó las peores métricas.\n"
   ]
  },
  {
   "cell_type": "markdown",
   "id": "36a60bf7",
   "metadata": {},
   "source": [
    "### Modelos de clasificación."
   ]
  },
  {
   "cell_type": "raw",
   "id": "320fcb61",
   "metadata": {},
   "source": [
    "La base de datos utilizada para la prueba de modelos de clasificación es del estudio de detección de melanoma mediante datos ómicos. Esta se obtuvo a partir técnicas de Next Generation Sequencing donde se extrajeron los valores de la expresión de diferentes genes que componen el ADN de las muestras. Con lo anterior se obtuvo un conjunto de datos con número de columnas equivalentes al número de genes que se haya conseguido secuenciar (variables de entrada), y un número \n",
    "de filas igual a las muestras que se hayan recogido (instancias). La base de datos presentas dos tipos de muestras.\n",
    "\n",
    "1. Muestras cuyos genes más expresados pueden considerarse asociados a células, moléculas o proteínas aparentemente 'inhibidoras' del melanoma; se denominarán de manera genérica 'immune'. \n",
    "2. Muestras cuyos genes más expresados se pueden asociar con factores de transcripción asociados a microftalmia \n",
    "(microphthalmia-associated transcription factor) o simplemente 'MITF'\n",
    "\n",
    "El vector objetivo tiene las categorías 'inmune' y 'MITF'\n",
    "\n",
    "Para entender el problema a resolver inspeccionamos la bases que tenemos del estudio. "
   ]
  },
  {
   "cell_type": "code",
   "execution_count": 42,
   "id": "a85a749e",
   "metadata": {},
   "outputs": [],
   "source": [
    "genes = pd.read_csv('inmune_X50.csv') # Conjunto de genes o atributos"
   ]
  },
  {
   "cell_type": "code",
   "execution_count": 43,
   "id": "bc4b1843",
   "metadata": {},
   "outputs": [],
   "source": [
    "vector = pd.read_csv('inmune_Y.csv') # Variable objetivo a predecir"
   ]
  },
  {
   "cell_type": "code",
   "execution_count": 44,
   "id": "6106af1e",
   "metadata": {},
   "outputs": [
    {
     "data": {
      "text/html": [
       "<div>\n",
       "<style scoped>\n",
       "    .dataframe tbody tr th:only-of-type {\n",
       "        vertical-align: middle;\n",
       "    }\n",
       "\n",
       "    .dataframe tbody tr th {\n",
       "        vertical-align: top;\n",
       "    }\n",
       "\n",
       "    .dataframe thead th {\n",
       "        text-align: right;\n",
       "    }\n",
       "</style>\n",
       "<table border=\"1\" class=\"dataframe\">\n",
       "  <thead>\n",
       "    <tr style=\"text-align: right;\">\n",
       "      <th></th>\n",
       "      <th>Unnamed: 0</th>\n",
       "      <th>COL2A1</th>\n",
       "      <th>RXRG</th>\n",
       "      <th>CCL19</th>\n",
       "      <th>SSX1</th>\n",
       "      <th>CST2</th>\n",
       "      <th>PRSS33</th>\n",
       "      <th>CDH2</th>\n",
       "      <th>SCUBE2</th>\n",
       "      <th>TMPRSS13</th>\n",
       "      <th>...</th>\n",
       "      <th>UBASH3A</th>\n",
       "      <th>GBP4</th>\n",
       "      <th>PRF1</th>\n",
       "      <th>PTK6</th>\n",
       "      <th>PCDHB2</th>\n",
       "      <th>GSDMA</th>\n",
       "      <th>DIO2</th>\n",
       "      <th>PLIN1</th>\n",
       "      <th>NCF1C</th>\n",
       "      <th>SLC7A11</th>\n",
       "    </tr>\n",
       "  </thead>\n",
       "  <tbody>\n",
       "    <tr>\n",
       "      <th>0</th>\n",
       "      <td>0</td>\n",
       "      <td>-1.431141</td>\n",
       "      <td>-7.845756</td>\n",
       "      <td>0.665118</td>\n",
       "      <td>-1.409304</td>\n",
       "      <td>-2.537396</td>\n",
       "      <td>-1.676281</td>\n",
       "      <td>1.529957</td>\n",
       "      <td>-0.895042</td>\n",
       "      <td>-0.298778</td>\n",
       "      <td>...</td>\n",
       "      <td>-0.659997</td>\n",
       "      <td>-1.469602</td>\n",
       "      <td>-0.570793</td>\n",
       "      <td>1.047635</td>\n",
       "      <td>-2.068966</td>\n",
       "      <td>-0.202828</td>\n",
       "      <td>-0.506767</td>\n",
       "      <td>1.285256</td>\n",
       "      <td>-0.901222</td>\n",
       "      <td>2.483020</td>\n",
       "    </tr>\n",
       "    <tr>\n",
       "      <th>1</th>\n",
       "      <td>1</td>\n",
       "      <td>-0.424374</td>\n",
       "      <td>-8.352423</td>\n",
       "      <td>0.386055</td>\n",
       "      <td>-2.846138</td>\n",
       "      <td>-0.685105</td>\n",
       "      <td>0.339787</td>\n",
       "      <td>-3.488043</td>\n",
       "      <td>-0.584982</td>\n",
       "      <td>5.679815</td>\n",
       "      <td>...</td>\n",
       "      <td>0.190202</td>\n",
       "      <td>-0.282190</td>\n",
       "      <td>0.375094</td>\n",
       "      <td>0.261662</td>\n",
       "      <td>3.356282</td>\n",
       "      <td>2.028145</td>\n",
       "      <td>-2.399010</td>\n",
       "      <td>-1.152801</td>\n",
       "      <td>0.662490</td>\n",
       "      <td>-2.914991</td>\n",
       "    </tr>\n",
       "    <tr>\n",
       "      <th>2</th>\n",
       "      <td>2</td>\n",
       "      <td>11.014251</td>\n",
       "      <td>0.415549</td>\n",
       "      <td>-1.633781</td>\n",
       "      <td>0.315442</td>\n",
       "      <td>-0.662332</td>\n",
       "      <td>-0.498761</td>\n",
       "      <td>0.535811</td>\n",
       "      <td>-0.467456</td>\n",
       "      <td>-2.818738</td>\n",
       "      <td>...</td>\n",
       "      <td>-0.816305</td>\n",
       "      <td>-0.316202</td>\n",
       "      <td>-1.153745</td>\n",
       "      <td>-2.284201</td>\n",
       "      <td>-1.761597</td>\n",
       "      <td>-0.746975</td>\n",
       "      <td>-2.988195</td>\n",
       "      <td>-1.976877</td>\n",
       "      <td>-1.400889</td>\n",
       "      <td>-2.266779</td>\n",
       "    </tr>\n",
       "    <tr>\n",
       "      <th>3</th>\n",
       "      <td>3</td>\n",
       "      <td>-1.180446</td>\n",
       "      <td>-8.187415</td>\n",
       "      <td>-1.958023</td>\n",
       "      <td>5.061146</td>\n",
       "      <td>-2.603744</td>\n",
       "      <td>-0.666706</td>\n",
       "      <td>0.456460</td>\n",
       "      <td>-4.609624</td>\n",
       "      <td>-1.713164</td>\n",
       "      <td>...</td>\n",
       "      <td>0.214344</td>\n",
       "      <td>-0.327110</td>\n",
       "      <td>0.476764</td>\n",
       "      <td>1.153275</td>\n",
       "      <td>-0.337649</td>\n",
       "      <td>-1.006765</td>\n",
       "      <td>-2.686648</td>\n",
       "      <td>-1.329148</td>\n",
       "      <td>0.055994</td>\n",
       "      <td>-2.652313</td>\n",
       "    </tr>\n",
       "    <tr>\n",
       "      <th>4</th>\n",
       "      <td>4</td>\n",
       "      <td>0.816312</td>\n",
       "      <td>-1.189303</td>\n",
       "      <td>4.837235</td>\n",
       "      <td>4.972176</td>\n",
       "      <td>-2.963715</td>\n",
       "      <td>-2.665721</td>\n",
       "      <td>-0.268042</td>\n",
       "      <td>-1.740607</td>\n",
       "      <td>0.011610</td>\n",
       "      <td>...</td>\n",
       "      <td>3.352734</td>\n",
       "      <td>2.145368</td>\n",
       "      <td>3.358865</td>\n",
       "      <td>-2.324389</td>\n",
       "      <td>-1.741669</td>\n",
       "      <td>0.734312</td>\n",
       "      <td>-1.649316</td>\n",
       "      <td>6.284688</td>\n",
       "      <td>1.450729</td>\n",
       "      <td>1.131275</td>\n",
       "    </tr>\n",
       "  </tbody>\n",
       "</table>\n",
       "<p>5 rows × 51 columns</p>\n",
       "</div>"
      ],
      "text/plain": [
       "   Unnamed: 0     COL2A1      RXRG     CCL19      SSX1      CST2    PRSS33  \\\n",
       "0           0  -1.431141 -7.845756  0.665118 -1.409304 -2.537396 -1.676281   \n",
       "1           1  -0.424374 -8.352423  0.386055 -2.846138 -0.685105  0.339787   \n",
       "2           2  11.014251  0.415549 -1.633781  0.315442 -0.662332 -0.498761   \n",
       "3           3  -1.180446 -8.187415 -1.958023  5.061146 -2.603744 -0.666706   \n",
       "4           4   0.816312 -1.189303  4.837235  4.972176 -2.963715 -2.665721   \n",
       "\n",
       "       CDH2    SCUBE2  TMPRSS13  ...   UBASH3A      GBP4      PRF1      PTK6  \\\n",
       "0  1.529957 -0.895042 -0.298778  ... -0.659997 -1.469602 -0.570793  1.047635   \n",
       "1 -3.488043 -0.584982  5.679815  ...  0.190202 -0.282190  0.375094  0.261662   \n",
       "2  0.535811 -0.467456 -2.818738  ... -0.816305 -0.316202 -1.153745 -2.284201   \n",
       "3  0.456460 -4.609624 -1.713164  ...  0.214344 -0.327110  0.476764  1.153275   \n",
       "4 -0.268042 -1.740607  0.011610  ...  3.352734  2.145368  3.358865 -2.324389   \n",
       "\n",
       "     PCDHB2     GSDMA      DIO2     PLIN1     NCF1C   SLC7A11  \n",
       "0 -2.068966 -0.202828 -0.506767  1.285256 -0.901222  2.483020  \n",
       "1  3.356282  2.028145 -2.399010 -1.152801  0.662490 -2.914991  \n",
       "2 -1.761597 -0.746975 -2.988195 -1.976877 -1.400889 -2.266779  \n",
       "3 -0.337649 -1.006765 -2.686648 -1.329148  0.055994 -2.652313  \n",
       "4 -1.741669  0.734312 -1.649316  6.284688  1.450729  1.131275  \n",
       "\n",
       "[5 rows x 51 columns]"
      ]
     },
     "execution_count": 44,
     "metadata": {},
     "output_type": "execute_result"
    }
   ],
   "source": [
    "genes.head() # datos de expresión de genes."
   ]
  },
  {
   "cell_type": "code",
   "execution_count": 45,
   "id": "8865de9a",
   "metadata": {},
   "outputs": [],
   "source": [
    "genes = genes.drop(columns='Unnamed: 0') # se elimina columna sin nombre"
   ]
  },
  {
   "cell_type": "raw",
   "id": "9fcccc65",
   "metadata": {},
   "source": [
    "Las variables del data frame genes contiene la expresión génica de los distintos atributos."
   ]
  },
  {
   "cell_type": "code",
   "execution_count": 46,
   "id": "8330468d",
   "metadata": {},
   "outputs": [
    {
     "name": "stdout",
     "output_type": "stream",
     "text": [
      "<class 'pandas.core.frame.DataFrame'>\n",
      "RangeIndex: 336 entries, 0 to 335\n",
      "Data columns (total 50 columns):\n",
      " #   Column    Non-Null Count  Dtype  \n",
      "---  ------    --------------  -----  \n",
      " 0   COL2A1    336 non-null    float64\n",
      " 1   RXRG      336 non-null    float64\n",
      " 2   CCL19     336 non-null    float64\n",
      " 3   SSX1      336 non-null    float64\n",
      " 4   CST2      336 non-null    float64\n",
      " 5   PRSS33    336 non-null    float64\n",
      " 6   CDH2      336 non-null    float64\n",
      " 7   SCUBE2    336 non-null    float64\n",
      " 8   TMPRSS13  336 non-null    float64\n",
      " 9   TRPM8     336 non-null    float64\n",
      " 10  DNASE2B   336 non-null    float64\n",
      " 11  GAP43     336 non-null    float64\n",
      " 12  IRX6      336 non-null    float64\n",
      " 13  SLC24A4   336 non-null    float64\n",
      " 14  SPATS1    336 non-null    float64\n",
      " 15  C3        336 non-null    float64\n",
      " 16  PRODH     336 non-null    float64\n",
      " 17  FCRLA     336 non-null    float64\n",
      " 18  NTS       336 non-null    float64\n",
      " 19  GAL3ST1   336 non-null    float64\n",
      " 20  ARHGEF4   336 non-null    float64\n",
      " 21  CDH19     336 non-null    float64\n",
      " 22  COCH      336 non-null    float64\n",
      " 23  ATP1A2    336 non-null    float64\n",
      " 24  CYSLTR2   336 non-null    float64\n",
      " 25  SOX9      336 non-null    float64\n",
      " 26  SV2A      336 non-null    float64\n",
      " 27  CXADR     336 non-null    float64\n",
      " 28  AK5       336 non-null    float64\n",
      " 29  PPAP2C    336 non-null    float64\n",
      " 30  DPT       336 non-null    float64\n",
      " 31  GNAL      336 non-null    float64\n",
      " 32  LTB       336 non-null    float64\n",
      " 33  SYT1      336 non-null    float64\n",
      " 34  CRYAB     336 non-null    float64\n",
      " 35  PLIN4     336 non-null    float64\n",
      " 36  LEPREL1   336 non-null    float64\n",
      " 37  BMP8B     336 non-null    float64\n",
      " 38  LHFPL3    336 non-null    float64\n",
      " 39  SNHG14    336 non-null    float64\n",
      " 40  UBASH3A   336 non-null    float64\n",
      " 41  GBP4      336 non-null    float64\n",
      " 42  PRF1      336 non-null    float64\n",
      " 43  PTK6      336 non-null    float64\n",
      " 44  PCDHB2    336 non-null    float64\n",
      " 45  GSDMA     336 non-null    float64\n",
      " 46  DIO2      336 non-null    float64\n",
      " 47  PLIN1     336 non-null    float64\n",
      " 48  NCF1C     336 non-null    float64\n",
      " 49  SLC7A11   336 non-null    float64\n",
      "dtypes: float64(50)\n",
      "memory usage: 131.4 KB\n"
     ]
    }
   ],
   "source": [
    "genes.info()"
   ]
  },
  {
   "cell_type": "code",
   "execution_count": 47,
   "id": "937df439",
   "metadata": {},
   "outputs": [
    {
     "data": {
      "text/plain": [
       "COL2A1      0\n",
       "RXRG        0\n",
       "CCL19       0\n",
       "SSX1        0\n",
       "CST2        0\n",
       "PRSS33      0\n",
       "CDH2        0\n",
       "SCUBE2      0\n",
       "TMPRSS13    0\n",
       "TRPM8       0\n",
       "DNASE2B     0\n",
       "GAP43       0\n",
       "IRX6        0\n",
       "SLC24A4     0\n",
       "SPATS1      0\n",
       "C3          0\n",
       "PRODH       0\n",
       "FCRLA       0\n",
       "NTS         0\n",
       "GAL3ST1     0\n",
       "ARHGEF4     0\n",
       "CDH19       0\n",
       "COCH        0\n",
       "ATP1A2      0\n",
       "CYSLTR2     0\n",
       "SOX9        0\n",
       "SV2A        0\n",
       "CXADR       0\n",
       "AK5         0\n",
       "PPAP2C      0\n",
       "DPT         0\n",
       "GNAL        0\n",
       "LTB         0\n",
       "SYT1        0\n",
       "CRYAB       0\n",
       "PLIN4       0\n",
       "LEPREL1     0\n",
       "BMP8B       0\n",
       "LHFPL3      0\n",
       "SNHG14      0\n",
       "UBASH3A     0\n",
       "GBP4        0\n",
       "PRF1        0\n",
       "PTK6        0\n",
       "PCDHB2      0\n",
       "GSDMA       0\n",
       "DIO2        0\n",
       "PLIN1       0\n",
       "NCF1C       0\n",
       "SLC7A11     0\n",
       "dtype: int64"
      ]
     },
     "execution_count": 47,
     "metadata": {},
     "output_type": "execute_result"
    }
   ],
   "source": [
    "genes.isnull().sum()"
   ]
  },
  {
   "cell_type": "raw",
   "id": "129302be",
   "metadata": {},
   "source": [
    "El data frame genes se encuentra sin datos nulos, por lo tanto, no debemos eliminar data que no aporte información."
   ]
  },
  {
   "cell_type": "code",
   "execution_count": 48,
   "id": "b751953d",
   "metadata": {},
   "outputs": [
    {
     "name": "stdout",
     "output_type": "stream",
     "text": [
      "<class 'pandas.core.frame.DataFrame'>\n",
      "RangeIndex: 336 entries, 0 to 335\n",
      "Data columns (total 2 columns):\n",
      " #   Column                     Non-Null Count  Dtype \n",
      "---  ------                     --------------  ----- \n",
      " 0   Unnamed: 0                 336 non-null    int64 \n",
      " 1   RNASEQ-CLUSTER_CONSENHIER  336 non-null    object\n",
      "dtypes: int64(1), object(1)\n",
      "memory usage: 5.4+ KB\n"
     ]
    }
   ],
   "source": [
    "vector.info() # Vector objetivo"
   ]
  },
  {
   "cell_type": "code",
   "execution_count": 49,
   "id": "8f194c9f",
   "metadata": {},
   "outputs": [],
   "source": [
    "vector= vector.drop(columns='Unnamed: 0') # se elimina columna sin nombre"
   ]
  },
  {
   "cell_type": "code",
   "execution_count": 50,
   "id": "30e3fde7",
   "metadata": {},
   "outputs": [
    {
     "data": {
      "text/html": [
       "<div>\n",
       "<style scoped>\n",
       "    .dataframe tbody tr th:only-of-type {\n",
       "        vertical-align: middle;\n",
       "    }\n",
       "\n",
       "    .dataframe tbody tr th {\n",
       "        vertical-align: top;\n",
       "    }\n",
       "\n",
       "    .dataframe thead th {\n",
       "        text-align: right;\n",
       "    }\n",
       "</style>\n",
       "<table border=\"1\" class=\"dataframe\">\n",
       "  <thead>\n",
       "    <tr style=\"text-align: right;\">\n",
       "      <th></th>\n",
       "      <th>RNASEQ-CLUSTER_CONSENHIER</th>\n",
       "    </tr>\n",
       "  </thead>\n",
       "  <tbody>\n",
       "    <tr>\n",
       "      <th>0</th>\n",
       "      <td>immune</td>\n",
       "    </tr>\n",
       "    <tr>\n",
       "      <th>1</th>\n",
       "      <td>MITF-low</td>\n",
       "    </tr>\n",
       "    <tr>\n",
       "      <th>2</th>\n",
       "      <td>MITF-low</td>\n",
       "    </tr>\n",
       "    <tr>\n",
       "      <th>3</th>\n",
       "      <td>immune</td>\n",
       "    </tr>\n",
       "    <tr>\n",
       "      <th>4</th>\n",
       "      <td>immune</td>\n",
       "    </tr>\n",
       "  </tbody>\n",
       "</table>\n",
       "</div>"
      ],
      "text/plain": [
       "  RNASEQ-CLUSTER_CONSENHIER\n",
       "0                    immune\n",
       "1                  MITF-low\n",
       "2                  MITF-low\n",
       "3                    immune\n",
       "4                    immune"
      ]
     },
     "execution_count": 50,
     "metadata": {},
     "output_type": "execute_result"
    }
   ],
   "source": [
    "vector.head()"
   ]
  },
  {
   "cell_type": "code",
   "execution_count": 51,
   "id": "bcf4ba37",
   "metadata": {},
   "outputs": [],
   "source": [
    "# se renombra columna\n",
    "vector=vector.rename(columns={\"RNASEQ-CLUSTER_CONSENHIER\":\"RNASEQ\"})"
   ]
  },
  {
   "cell_type": "code",
   "execution_count": 52,
   "id": "32f7aa33",
   "metadata": {},
   "outputs": [
    {
     "name": "stdout",
     "output_type": "stream",
     "text": [
      "\n",
      " RNASEQ\n",
      "immune      168\n",
      "MITF-low    168\n",
      "Name: RNASEQ, dtype: int64\n"
     ]
    }
   ],
   "source": [
    "variables_insp(vector) # Se insepcciona variable categorica objetivo"
   ]
  },
  {
   "cell_type": "raw",
   "id": "e969956f",
   "metadata": {},
   "source": [
    "El data frame vector no tienes datos nulos, este es de tipo object lo que indica que se debe binarizar. \n",
    "\n",
    "El vector objetivo se categorizó como categoría immune == 0 y categoría MITF == 1. En palabras simples si presenta melanoma es 1 sino es 0, para ello se binarizó de la siguente manera."
   ]
  },
  {
   "cell_type": "code",
   "execution_count": 53,
   "id": "da83e29c",
   "metadata": {},
   "outputs": [],
   "source": [
    "#se establece X e y para modelos de clasificación\n",
    "Xc, yc = genes, vector"
   ]
  },
  {
   "cell_type": "code",
   "execution_count": 54,
   "id": "6de71203",
   "metadata": {},
   "outputs": [],
   "source": [
    "#RNASEQ debe recodificarse de forma binaria. ()\n",
    "yc['RNASEQ'] = np.where(yc['RNASEQ'] == 'MITF-low', 1, 0)"
   ]
  },
  {
   "cell_type": "raw",
   "id": "04aa08cf",
   "metadata": {},
   "source": [
    "Con los modelos de clasificación se espera determinar la oportunidad de ocurrencia de que un individo presente MITF o que sea inmune, y a partir de esto obtener la probabilidad. "
   ]
  },
  {
   "cell_type": "markdown",
   "id": "c3fa20e4",
   "metadata": {},
   "source": [
    "#### Regresión logística"
   ]
  },
  {
   "cell_type": "markdown",
   "id": "58eed8b5",
   "metadata": {},
   "source": [
    "##### Modelación predictiva"
   ]
  },
  {
   "cell_type": "raw",
   "id": "1b7f5c88",
   "metadata": {},
   "source": [
    "En el caso de clasificación no se realizó modelación descriptiva debido a que su utilidad ya se comentó en los modelos de regresión. \n",
    "\n",
    "El objetivo de la clasificación es enseñarle a la máquina a discriminar entre un número finito de clases en base a una serie de atributos. Se procededió con modelación predictiva para regresión logística."
   ]
  },
  {
   "cell_type": "code",
   "execution_count": 55,
   "id": "7bdd90b0",
   "metadata": {},
   "outputs": [],
   "source": [
    "#Se segmentar nuestra base de datos en entrenamiento y pruebas siguiendo la nomenclatura clásica, guardando el 33% de la muestra,\n",
    "#una semilla pseudoaleatoria con random_state para asegurar replicabilidad de los resultados.\n",
    "\n",
    "Xc_train, Xc_test, yc_train, yc_test = train_test_split(Xc, yc, test_size=0.33, random_state=1511)"
   ]
  },
  {
   "cell_type": "raw",
   "id": "efa44e3f",
   "metadata": {},
   "source": [
    "De forma adicional se estandarizó cada atributo en nuestras muestras mediante StandardScaler. Mediante la estandarización\n",
    "transformamos las variables al restarle la media y dividirla por la varianza de la variable. Con esto logramos homogeneizar las variables y fácilitar la comparación entre atributos en el modelo logístico."
   ]
  },
  {
   "cell_type": "code",
   "execution_count": 56,
   "id": "9fb480f0",
   "metadata": {},
   "outputs": [],
   "source": [
    "# estandarizamos la matriz de entrenamiento\n",
    "X_train_std = StandardScaler().fit_transform(Xc_train)\n",
    "\n",
    "# estandarizamos la matriz de pruebas ( se usa para generar la prediccion de las clases)\n",
    "X_test_std = StandardScaler().fit_transform(Xc_test)\n"
   ]
  },
  {
   "cell_type": "code",
   "execution_count": 57,
   "id": "59136bab",
   "metadata": {},
   "outputs": [],
   "source": [
    "default_model = LogisticRegression(random_state=1511).fit(X_train_std, yc_train)"
   ]
  },
  {
   "cell_type": "raw",
   "id": "e1b04a57",
   "metadata": {},
   "source": [
    "Procedemos a generar las predicciones en base a nuestro modelo mediante predict(X_test_std)."
   ]
  },
  {
   "cell_type": "code",
   "execution_count": 58,
   "id": "b67b10c1",
   "metadata": {},
   "outputs": [],
   "source": [
    "#predicción de las clases\n",
    "yhat = default_model.predict(X_test_std)"
   ]
  },
  {
   "cell_type": "code",
   "execution_count": 59,
   "id": "896e9836",
   "metadata": {},
   "outputs": [],
   "source": [
    "#predicción de probabilidad.\n",
    "yhat_prob = default_model.predict_proba(X_test_std)"
   ]
  },
  {
   "cell_type": "raw",
   "id": "d072c9a1",
   "metadata": {},
   "source": [
    "Para evaluar el desempeño de modelos de clasificación se debe cruzar la información de la predicción con las etiquetas reales de nuestra muestra de validación. Esto se conoce como matriz de confusión (Kuhn & Johnson, 2013), dándonos la métrica accuracy (Exactitud)."
   ]
  },
  {
   "cell_type": "code",
   "execution_count": 60,
   "id": "61a255c1",
   "metadata": {},
   "outputs": [
    {
     "data": {
      "text/plain": [
       "0.77"
      ]
     },
     "execution_count": 60,
     "metadata": {},
     "output_type": "execute_result"
    }
   ],
   "source": [
    "#exactitud de nuestro modelo\n",
    "m1_acc = accuracy_score(yc_test, yhat)\n",
    "round(m1_acc,2)"
   ]
  },
  {
   "cell_type": "raw",
   "id": "3cf36c25",
   "metadata": {},
   "source": [
    "Considerando un benchmark (Gelman & Hill, 2007), la exactitud informa que el modelo tiene un desempeño de un 0.27% superior que una predicción azarosa."
   ]
  },
  {
   "cell_type": "raw",
   "id": "c8e674ba",
   "metadata": {},
   "source": [
    "Por otro lado la exactitud por sí sola no hace distinción frente a los tipos de errores (Falso Negativo y Falso Positivo)\n",
    "Es por esto que también se debe considerar las siguientes métricas del modelo.\n",
    "\n",
    "Precision: Mide la fracción de predicciones correctas entre las etiquetas positivas. Valores altos significan que el algoritmo predice más resultados relevantes que irrelevantes. Responde a la pregunta: ¿Qué proporción de identificaciones positivas\n",
    "fue correcta?.(Gelman & Hill, 2007).\n",
    "\n",
    "Recall (o sensibilidad): Mide la fracción de verdaderos positivos predichos por el modelo. Valores altos significan que el algoritmo logra predecir la mayoría de los resultados relevantes. Responde a la pregunta: ¿Qué proporción de positivos reales\n",
    "se identificó correctamente?(Gelman & Hill, 2007).\n",
    "\n",
    "F1: Representa la media armónica entre Precisión y Recall (Gelman & Hill, 2007).\n",
    "\n",
    "El reporte de métricas de validación es el siguiente:"
   ]
  },
  {
   "cell_type": "code",
   "execution_count": 61,
   "id": "6e8e78c4",
   "metadata": {},
   "outputs": [
    {
     "name": "stdout",
     "output_type": "stream",
     "text": [
      "              precision    recall  f1-score   support\n",
      "\n",
      "           0       0.80      0.71      0.75        56\n",
      "           1       0.74      0.82      0.78        55\n",
      "\n",
      "    accuracy                           0.77       111\n",
      "   macro avg       0.77      0.77      0.77       111\n",
      "weighted avg       0.77      0.77      0.77       111\n",
      "\n"
     ]
    }
   ],
   "source": [
    "mc1=classification_report(yc_test, yhat)\n",
    "print(mc1)"
   ]
  },
  {
   "cell_type": "raw",
   "id": "1b47b789",
   "metadata": {},
   "source": [
    "En este caso se observa que F1 tiene una media armónica para la clase 1 de 0.78 y para la clase 0 de 0.75"
   ]
  },
  {
   "cell_type": "markdown",
   "id": "f121468a",
   "metadata": {},
   "source": [
    "##### Máquinas de Soporte Vectorial"
   ]
  },
  {
   "cell_type": "raw",
   "id": "42b8e26d",
   "metadata": {},
   "source": [
    "Este modelo utilizó el conjunto de algoritmos de SVM para clasificación SVC. En este caso es importante reescalar los datos para evitar la influencia de outliers. También se importó la clase Pipeline del módulo pipeline de la librería sklearn para poder concatenar los pasos de ejecución. Finalmente se implementó  kernel lineal (Las funciones de kernel asignan a los datos a un espacio dimensional diferente, que suele ser superior, con la expectativa de que resulte más fácil separar las clases después de esta transformación) (Navlani, 2019)."
   ]
  },
  {
   "cell_type": "code",
   "execution_count": 62,
   "id": "ff343ef0",
   "metadata": {},
   "outputs": [],
   "source": [
    "#instanciamos un pipeline con StandarScaler\n",
    "#sobre la máquina de soporte vectorial\n",
    "pipeline_svc_rbf  = Pipeline([\n",
    "('scaler', StandardScaler()),\n",
    "('svc', SVC(kernel='linear'))\n",
    "])"
   ]
  },
  {
   "cell_type": "code",
   "execution_count": 63,
   "id": "e40ceb69",
   "metadata": {},
   "outputs": [
    {
     "data": {
      "text/plain": [
       "Pipeline(steps=[('scaler', StandardScaler()), ('svc', SVC(kernel='linear'))])"
      ]
     },
     "execution_count": 63,
     "metadata": {},
     "output_type": "execute_result"
    }
   ],
   "source": [
    "pipeline_svc_rbf.fit(Xc_train, yc_train)"
   ]
  },
  {
   "cell_type": "code",
   "execution_count": 64,
   "id": "600d4115",
   "metadata": {},
   "outputs": [],
   "source": [
    "# el objeto creado puede utilizarse con los siguientes métodos\n",
    "y_hatsvc = pipeline_svc_rbf.predict(Xc_test)"
   ]
  },
  {
   "cell_type": "code",
   "execution_count": 65,
   "id": "3572d452",
   "metadata": {},
   "outputs": [
    {
     "data": {
      "text/plain": [
       "0.77"
      ]
     },
     "execution_count": 65,
     "metadata": {},
     "output_type": "execute_result"
    }
   ],
   "source": [
    "#exactitud de nuestro modelo\n",
    "m2_acc = accuracy_score(yc_test, y_hatsvc)\n",
    "round(m2_acc,2)"
   ]
  },
  {
   "cell_type": "raw",
   "id": "5fd94634",
   "metadata": {},
   "source": [
    "El reporte de métricas de validación es el siguiente:"
   ]
  },
  {
   "cell_type": "code",
   "execution_count": 66,
   "id": "b6c0fb90",
   "metadata": {},
   "outputs": [
    {
     "name": "stdout",
     "output_type": "stream",
     "text": [
      "              precision    recall  f1-score   support\n",
      "\n",
      "           0       0.83      0.70      0.76        56\n",
      "           1       0.73      0.85      0.79        55\n",
      "\n",
      "    accuracy                           0.77       111\n",
      "   macro avg       0.78      0.78      0.77       111\n",
      "weighted avg       0.78      0.77      0.77       111\n",
      "\n"
     ]
    }
   ],
   "source": [
    "mc2=classification_report(yc_test, y_hatsvc)\n",
    "print(mc2)"
   ]
  },
  {
   "cell_type": "markdown",
   "id": "f1d0bfbb",
   "metadata": {},
   "source": [
    "#### K-Nearest Neighbors (KNN) clasificación "
   ]
  },
  {
   "cell_type": "raw",
   "id": "1c25910e",
   "metadata": {},
   "source": [
    "Este es un modelo supervisado popular que se usa tanto para la clasificación como para la regresión y es una forma útil de comprender las funciones de distancia, los sistemas de votación y la optimización de hiperparámetros. El algoritmo kNN puede considerarse un sistema de votación, donde la etiqueta de clase mayoritaria determina la etiqueta de clase de un nuevo punto de datos entre sus vecinos 'k' más cercanos (donde k es un número entero) en el espacio de características (Shafi, 2023)."
   ]
  },
  {
   "cell_type": "code",
   "execution_count": 67,
   "id": "c165ca34",
   "metadata": {},
   "outputs": [],
   "source": [
    "# Se escala los grupos de entrenamiento y test\n",
    "scaler = StandardScaler()\n",
    "Xc_trainknn = scaler.fit_transform(Xc_train)\n",
    "Xc_testknn = scaler.transform(Xc_test)"
   ]
  },
  {
   "cell_type": "raw",
   "id": "7694db2f",
   "metadata": {},
   "source": [
    "Al entrenar un clasificador kNN, es esencial escalar las características. Esto se debe a que kNN mide la distancia entre puntos."
   ]
  },
  {
   "cell_type": "code",
   "execution_count": 68,
   "id": "37c727f7",
   "metadata": {},
   "outputs": [
    {
     "data": {
      "text/plain": [
       "KNeighborsClassifier(n_neighbors=3)"
      ]
     },
     "execution_count": 68,
     "metadata": {},
     "output_type": "execute_result"
    }
   ],
   "source": [
    "knn = KNeighborsClassifier(n_neighbors=3)\n",
    "knn.fit(Xc_trainknn, yc_train)"
   ]
  },
  {
   "cell_type": "code",
   "execution_count": 69,
   "id": "aecb51e7",
   "metadata": {},
   "outputs": [],
   "source": [
    "yc_predknn = knn.predict(Xc_testknn)"
   ]
  },
  {
   "cell_type": "code",
   "execution_count": 70,
   "id": "7952d124",
   "metadata": {},
   "outputs": [
    {
     "data": {
      "text/plain": [
       "0.69"
      ]
     },
     "execution_count": 70,
     "metadata": {},
     "output_type": "execute_result"
    }
   ],
   "source": [
    "#exactitud de nuestro modelo\n",
    "m3_acc = accuracy_score(yc_test, yc_predknn)\n",
    "round(m3_acc,2)"
   ]
  },
  {
   "cell_type": "code",
   "execution_count": 71,
   "id": "3f158fa3",
   "metadata": {},
   "outputs": [
    {
     "name": "stdout",
     "output_type": "stream",
     "text": [
      "              precision    recall  f1-score   support\n",
      "\n",
      "           0       0.96      0.41      0.57        56\n",
      "           1       0.62      0.98      0.76        55\n",
      "\n",
      "    accuracy                           0.69       111\n",
      "   macro avg       0.79      0.70      0.67       111\n",
      "weighted avg       0.79      0.69      0.67       111\n",
      "\n"
     ]
    }
   ],
   "source": [
    "mc3=classification_report(yc_test, yc_predknn)\n",
    "print(mc3)"
   ]
  },
  {
   "cell_type": "raw",
   "id": "4705dc13",
   "metadata": {},
   "source": [
    "Podemos mejorar los hiperparámetros para mejorar el modelo usando validación cruzada y así poder obtener el mejor valor de k.\n",
    "La validación cruzada es una técnica para evaluar modelos de ML mediante el entrenamiento de varios modelos de ML en subconjuntos de los datos de entrada disponibles y evaluarlos con el subconjunto complementario de los datos (Amazon, 2022)."
   ]
  },
  {
   "cell_type": "code",
   "execution_count": 72,
   "id": "a03332b6",
   "metadata": {},
   "outputs": [],
   "source": [
    "k_values = [i for i in range (1,31)]\n",
    "scores = []\n",
    "\n",
    "scaler = StandardScaler()\n",
    "X = scaler.fit_transform(X)\n",
    "\n",
    "for k in k_values:\n",
    "    knn = KNeighborsClassifier(n_neighbors=k)\n",
    "    score = cross_val_score(knn, Xc, yc, cv=5)\n",
    "    scores.append(np.mean(score))"
   ]
  },
  {
   "cell_type": "code",
   "execution_count": 73,
   "id": "8b1dbd03",
   "metadata": {},
   "outputs": [
    {
     "data": {
      "text/plain": [
       "Text(0, 0.5, 'Accuracy Score')"
      ]
     },
     "execution_count": 73,
     "metadata": {},
     "output_type": "execute_result"
    },
    {
     "data": {
      "image/png": "[encoded data removed]",
      "text/plain": [
       "<Figure size 576x576 with 1 Axes>"
      ]
     },
     "metadata": {
      "needs_background": "light"
     },
     "output_type": "display_data"
    }
   ],
   "source": [
    "# se grafica el mejor k\n",
    "plt.rcParams['figure.figsize']=(8, 8)\n",
    "sns.lineplot(x = k_values, y = scores, marker = 'o')\n",
    "plt.xlabel(\"K Values\")\n",
    "plt.ylabel(\"Accuracy Score\")"
   ]
  },
  {
   "cell_type": "raw",
   "id": "b9afd40c",
   "metadata": {},
   "source": [
    "K==2 tiene una precisión sobre 0.73%, siendo el valor más alto. El reentrenamiento del modelo con el mejor K dio lo siguiente."
   ]
  },
  {
   "cell_type": "code",
   "execution_count": 74,
   "id": "747b4f2c",
   "metadata": {},
   "outputs": [
    {
     "data": {
      "text/plain": [
       "KNeighborsClassifier(n_neighbors=2)"
      ]
     },
     "execution_count": 74,
     "metadata": {},
     "output_type": "execute_result"
    }
   ],
   "source": [
    "best_index = np.argmax(scores)\n",
    "best_k = k_values[best_index]\n",
    "best_k\n",
    "knn_r = KNeighborsClassifier(n_neighbors=best_k)\n",
    "knn_r.fit(Xc_trainknn, yc_train)"
   ]
  },
  {
   "cell_type": "code",
   "execution_count": 75,
   "id": "0fb69b80",
   "metadata": {},
   "outputs": [],
   "source": [
    "y_predknn2 = knn_r.predict(Xc_testknn)"
   ]
  },
  {
   "cell_type": "code",
   "execution_count": 76,
   "id": "e6901154",
   "metadata": {},
   "outputs": [
    {
     "name": "stdout",
     "output_type": "stream",
     "text": [
      "              precision    recall  f1-score   support\n",
      "\n",
      "           0       0.88      0.50      0.64        56\n",
      "           1       0.65      0.93      0.76        55\n",
      "\n",
      "    accuracy                           0.71       111\n",
      "   macro avg       0.76      0.71      0.70       111\n",
      "weighted avg       0.76      0.71      0.70       111\n",
      "\n"
     ]
    }
   ],
   "source": [
    "#modelo reentrenado\n",
    "mc3_1=classification_report(yc_test, y_predknn2)\n",
    "print(mc3_1)"
   ]
  },
  {
   "cell_type": "code",
   "execution_count": 77,
   "id": "4191a536",
   "metadata": {},
   "outputs": [
    {
     "name": "stdout",
     "output_type": "stream",
     "text": [
      "              precision    recall  f1-score   support\n",
      "\n",
      "           0       0.96      0.41      0.57        56\n",
      "           1       0.62      0.98      0.76        55\n",
      "\n",
      "    accuracy                           0.69       111\n",
      "   macro avg       0.79      0.70      0.67       111\n",
      "weighted avg       0.79      0.69      0.67       111\n",
      "\n"
     ]
    }
   ],
   "source": [
    "# modelo anterior\n",
    "print(mc3)"
   ]
  },
  {
   "cell_type": "raw",
   "id": "05fd05d3",
   "metadata": {},
   "source": [
    "Si consideramos F1, podríamos decir que el modelo es levemente mejor. El accuracy también mejora a un 0.71%. Si bien precisión en las categorías 0 y 1 y recall en categoría 1 disminuyen. Sus valores siguen siendo aceptables, mientras que Recall en 0 mejora considerablemente. Es por esto que se determina que el modelo reentrenado con K=2 es mejor para el modelo KNN."
   ]
  },
  {
   "cell_type": "markdown",
   "id": "01532b89",
   "metadata": {},
   "source": [
    "#### Random Forest Classification"
   ]
  },
  {
   "cell_type": "raw",
   "id": "44e85e81",
   "metadata": {},
   "source": [
    "Para Random Forest Classification, se crean múltiples árboles de decisión utilizando diferentes subconjuntos aleatorios de datos y características. Cada árbol de decisión es como un experto, brindando su opinión sobre cómo clasificar los datos. Las predicciones se realizan calculando la predicción para cada árbol de decisión y luego tomando el resultado más popular. \n",
    "\n",
    "Para la implementación de este algoritmo no se escalaron los datos ya que no es necesario. Los modelos basados en árboles no se preocupan por el valor absoluto que toma una característica, solo les importa el orden de los valores (Breiman, 2001)"
   ]
  },
  {
   "cell_type": "code",
   "execution_count": 78,
   "id": "d7ea1be2",
   "metadata": {},
   "outputs": [],
   "source": [
    "rf_class = RandomForestClassifier().fit(Xc_train, yc_train)"
   ]
  },
  {
   "cell_type": "code",
   "execution_count": 79,
   "id": "3f77d4be",
   "metadata": {},
   "outputs": [],
   "source": [
    "y_predrfclass =rf_class.predict(Xc_test)"
   ]
  },
  {
   "cell_type": "code",
   "execution_count": 80,
   "id": "6c44a07a",
   "metadata": {},
   "outputs": [
    {
     "data": {
      "text/plain": [
       "0.87"
      ]
     },
     "execution_count": 80,
     "metadata": {},
     "output_type": "execute_result"
    }
   ],
   "source": [
    "#exactitud de nuestro modelo\n",
    "m4_acc = accuracy_score(yc_test, y_predrfclass)\n",
    "round(m4_acc,2)"
   ]
  },
  {
   "cell_type": "code",
   "execution_count": 81,
   "id": "ec746f38",
   "metadata": {},
   "outputs": [
    {
     "name": "stdout",
     "output_type": "stream",
     "text": [
      "              precision    recall  f1-score   support\n",
      "\n",
      "           0       0.88      0.88      0.88        56\n",
      "           1       0.87      0.87      0.87        55\n",
      "\n",
      "    accuracy                           0.87       111\n",
      "   macro avg       0.87      0.87      0.87       111\n",
      "weighted avg       0.87      0.87      0.87       111\n",
      "\n"
     ]
    }
   ],
   "source": [
    "mc4=classification_report(yc_test, y_predrfclass)\n",
    "print(mc4)"
   ]
  },
  {
   "cell_type": "markdown",
   "id": "b77d3895",
   "metadata": {},
   "source": [
    "##### Comparación de modelos obtenidos"
   ]
  },
  {
   "cell_type": "code",
   "execution_count": 82,
   "id": "97602636",
   "metadata": {},
   "outputs": [
    {
     "name": "stdout",
     "output_type": "stream",
     "text": [
      "Regresión logística \n",
      "\n",
      "               precision    recall  f1-score   support\n",
      "\n",
      "           0       0.80      0.71      0.75        56\n",
      "           1       0.74      0.82      0.78        55\n",
      "\n",
      "    accuracy                           0.77       111\n",
      "   macro avg       0.77      0.77      0.77       111\n",
      "weighted avg       0.77      0.77      0.77       111\n",
      " \n",
      "\n",
      "SVC \n",
      "\n",
      "               precision    recall  f1-score   support\n",
      "\n",
      "           0       0.83      0.70      0.76        56\n",
      "           1       0.73      0.85      0.79        55\n",
      "\n",
      "    accuracy                           0.77       111\n",
      "   macro avg       0.78      0.78      0.77       111\n",
      "weighted avg       0.78      0.77      0.77       111\n",
      " \n",
      "\n",
      "KNN \n",
      "\n",
      "               precision    recall  f1-score   support\n",
      "\n",
      "           0       0.88      0.50      0.64        56\n",
      "           1       0.65      0.93      0.76        55\n",
      "\n",
      "    accuracy                           0.71       111\n",
      "   macro avg       0.76      0.71      0.70       111\n",
      "weighted avg       0.76      0.71      0.70       111\n",
      " \n",
      "\n",
      "Random Forest \n",
      "\n",
      "               precision    recall  f1-score   support\n",
      "\n",
      "           0       0.88      0.88      0.88        56\n",
      "           1       0.87      0.87      0.87        55\n",
      "\n",
      "    accuracy                           0.87       111\n",
      "   macro avg       0.87      0.87      0.87       111\n",
      "weighted avg       0.87      0.87      0.87       111\n",
      " \n",
      "\n"
     ]
    }
   ],
   "source": [
    "mcc={\"Regresión logística\": mc1, \"SVC\": mc2, \"KNN\": mc3_1, \"Random Forest\": mc4}\n",
    "\n",
    "for clave in mcc:\n",
    "    print(clave, '\\n\\n', mcc[clave],'\\n')"
   ]
  },
  {
   "cell_type": "raw",
   "id": "e5f1c4d4",
   "metadata": {},
   "source": [
    "El mejor modelo considerando precisión, recall y f1 es Random Forest. Accuracy también es mucho mejor. Le siguen SVC y Regresión logística. En cuanto al peor modelo este sería Knn reentrenado, sugiriendose que no es el mejor algoritmo para el\n",
    "tipo de datos de este estudio. Para ver que tan cierto es esto podemos comparar la curva roc de Random Forest y KNN."
   ]
  },
  {
   "cell_type": "code",
   "execution_count": 83,
   "id": "5a0b93d1",
   "metadata": {},
   "outputs": [
    {
     "data": {
      "image/png": "[encoded data removed]",
      "text/plain": [
       "<Figure size 576x576 with 1 Axes>"
      ]
     },
     "metadata": {
      "needs_background": "light"
     },
     "output_type": "display_data"
    }
   ],
   "source": [
    "#Random Forest\n",
    "curva_roc(rf_class,Xc_test,yc_test)"
   ]
  },
  {
   "cell_type": "code",
   "execution_count": 84,
   "id": "c4d3aa52",
   "metadata": {},
   "outputs": [
    {
     "data": {
      "image/png": "[encoded data removed]",
      "text/plain": [
       "<Figure size 576x576 with 1 Axes>"
      ]
     },
     "metadata": {
      "needs_background": "light"
     },
     "output_type": "display_data"
    }
   ],
   "source": [
    "#KNN\n",
    "curva_roc(knn_r,Xc_testknn,yc_test)"
   ]
  },
  {
   "cell_type": "raw",
   "id": "a3fc90a3",
   "metadata": {},
   "source": [
    "Se puede observar que en ambos casos la capacidad predictiva es adecuada, ya que la curva roc está sobre la bisectriz. Esto significa que  la tasa verdaderos positivos es mayor a la de falsos positivos. KNN es un modelo adecuado."
   ]
  },
  {
   "cell_type": "markdown",
   "id": "01e04400",
   "metadata": {},
   "source": [
    "##### Discusiones."
   ]
  },
  {
   "cell_type": "raw",
   "id": "dbf0c602",
   "metadata": {},
   "source": [
    "Modelos de Regresión:\n",
    "\n",
    "La modelación descriptiva nos ayudó a dar una idea de lo que ha pasado con la información de los datos. Los atributos del modelo final descriptivo (Sex, Height, BMI, WC , TAGmgDL, HDLCmgDL) estuvieron presente en el modelo final predictivo, esto permite corroborar la importancia de estas en el modelo regresión lineal de Machine Learning. Como este no está creado con técnicas de Machine Learing no se compararon con los modelos predictivos.\n",
    "\n",
    "Las métricas de Random Forest fueron las mejores para este análisis seguidas de SVR y Regresión lineal. Mientras Árboles de decisión obtuvieron las peores métricas. Una de las desventajas de este algoritmo es que no tienen el mismo nivel de precisión predictiva que otros enfoques, ya que no son del todo robustos. Un pequeño cambio en los datos puede provocar un gran cambio en el árbol estimado final (Le, 2018), es por eso que se recomienda Random forest.\n",
    "\n",
    "En cuanto a los 3 modelos con mejores métricas y considerando que R2 mientras más cercano a 1 es mejor (en un rango de 0-1), los valores son más cercanos a 0 que a 1 (todos bajo 50%), lo que podría significar que los modelos obtenidos no son los mejores para modelar el problema. Un factor muy importante para obtener mejores resultados es la cantidad de datos que quizás no fue suficiente para modelar de forma correcta. \n",
    "\n",
    "Modelos de Clasificación:\n",
    "\n",
    "Estos modelos obtuvieron mejores métricas de validación en comparación a regresión. Se puede sugerir incluso que todos los modelos son adecuados para clasificar el vector objetivo del problema, siendo Random Forest nuevamente el algoritmo que generó el mejor modelo de clasificación.\n",
    "\n",
    "Pudimos ver también la utilidad de técnica de Validación cruzada para obtener los mejores hiperparámetros. Determinar mejores hiperparámetros es crucial para obtener mejores modelos. Conocer la estructura de los algoritmos que vamos a utilizar es muy importante para poder obtener óptimos resultados.\n"
   ]
  },
  {
   "cell_type": "markdown",
   "id": "678b8330",
   "metadata": {},
   "source": [
    "##### Conclusión."
   ]
  },
  {
   "cell_type": "raw",
   "id": "8a043ec4",
   "metadata": {},
   "source": [
    "En el presente trabajo se pudo observar distintas técnicas para crear modelos de predicción que permiten resolver distintos problemas en el área biológica. Tener un profundo conocimiento en las técnicas a utilizar en conjunto a una base de datos suficientes en cantidad como calidad resulta crucial para obtener buenos resultados. \n",
    "\n",
    "En cuanto a nuestros problemas de predicción, si bien en los modelos de regresión no podemos decir que sean los más óptimos, tenemos una noción de qué cosas podemos mejorar y que algoritmos probar. Fue bastante útil contrastar algoritmos para esto. Para los modelos de clasificación se obtuvieron muy buenos resultados, esto nos permitió obtener modelos adecuados para la predicción de melanoma, demostrando la posibilidad de diagnósticos alternativos para el cáncer que sean menos invasivos.\n"
   ]
  },
  {
   "cell_type": "markdown",
   "id": "1ebae8a0",
   "metadata": {},
   "source": [
    "###### Referencias:\n",
    "\n",
    "Alpaydin, E. (2014). Introduction to Machine Learning. The MIT Press.\n",
    "\n",
    "Amazon. 2022. Amazon Machine Learning: Guía para desarrolladores. https://docs.aws.amazon.com/es_es/machine-learning/latest/dg/cross-validation.html\n",
    "\n",
    "Breiman, L. (2001). Random Forests\n",
    "\n",
    "Gelman, A., Hill, J. (2007). Data Analysis Using Regression And Multilevel/Hierarchical Models. Capítulo 3. Cambridge, UK: Cambridge UniversityPress.\n",
    "\n",
    "Hastie, T; Tibshirani, R ; FriedmanThe, J. (2009). Elements of Statistical Learning. Data Mining, Inference, and Prediction. Second Edition. Editor Springer.\n",
    "\n",
    "Kuhn, M., & Johnson, K. (2013). Applied predictive modeling (Vol. 26). New York: Springer\n",
    "\n",
    "Le, J. 2018. R Decision Trees Tutorial. https://www.datacamp.com/tutorial/decision-trees-R\n",
    "    \n",
    "Marín, J. (2019). Desarrollo de un algoritmo con Machine Learning para la clasificacón de pacientes con Parkinson. [Máster Universitario en Bioinformática y biología computacional]. Universidad Autónoma de Madrid.\n",
    "\n",
    "Navlani, A. 2019. Support Vector Machines with Scikit-learn Tutorial. https://www.datacamp.com/tutorial/svm-classification-scikit-learn-python\n",
    "\n",
    "Nso-Roca, A. P., Cortés Castell, E., Carratalá Marco, F., & Sánchez Ferrer, F. (2021). Insulin Resistance as a Diagnostic Criterion for Metabolically Healthy Obesity in Children. Journal of pediatric gastroenterology and nutrition, 73(1), 103–109. https://doi.org/10.1097/MPG.0000000000003097\n",
    "\n",
    "Shafi, A. 2023. K-Nearest Neighbors (KNN) Classification with scikit-learn. https://www.datacamp.com/tutorial/k-nearest-neighbor-classification-scikit-learn\n",
    "\n",
    "Universidad Europea (2022). Aprendizaje supervisado y no supervisado. https://universidadeuropea.com/blog/aprendizaje-supervisado-no-supervisado/\n"
   ]
  },
  {
   "cell_type": "code",
   "execution_count": null,
   "id": "fd21e7f9",
   "metadata": {},
   "outputs": [],
   "source": []
  },
  {
   "cell_type": "code",
   "execution_count": null,
   "id": "967d0fed",
   "metadata": {},
   "outputs": [],
   "source": []
  }
 ],
 "metadata": {
  "kernelspec": {
   "display_name": "Python 3 (ipykernel)",
   "language": "python",
   "name": "python3"
  },
  "language_info": {
   "codemirror_mode": {
    "name": "ipython",
    "version": 3
   },
   "file_extension": ".py",
   "mimetype": "text/x-python",
   "name": "python",
   "nbconvert_exporter": "python",
   "pygments_lexer": "ipython3",
   "version": "3.9.7"
  }
 },
 "nbformat": 4,
 "nbformat_minor": 5
}
